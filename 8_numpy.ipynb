{
  "cells": [
    {
      "cell_type": "markdown",
      "metadata": {
        "id": "view-in-github",
        "colab_type": "text"
      },
      "source": [
        "<a href=\"https://colab.research.google.com/github/Hemkush/Python_Practice/blob/main/8_numpy.ipynb\" target=\"_parent\"><img src=\"https://colab.research.google.com/assets/colab-badge.svg\" alt=\"Open In Colab\"/></a>"
      ]
    },
    {
      "cell_type": "markdown",
      "metadata": {
        "collapsed": true,
        "id": "jejIg7oPGptJ"
      },
      "source": [
        "# NumPy"
      ]
    },
    {
      "cell_type": "markdown",
      "metadata": {
        "id": "LYFssJrHGptL"
      },
      "source": [
        "**NumPy**--which stands for Numerical Python--is the foundational package for performing scientific computing. In addition, it provides the primary data structure--*the n-dimensional array*--on which the **pandas** package is built. NumPy includes extensive functionality, but we will use it primarily for:\n",
        "\n",
        "* Fast (vectorized) array operations for data processing\n",
        "* Efficient descriptive statistics\n",
        "* Manipulations for merging multiple data sets"
      ]
    },
    {
      "cell_type": "code",
      "execution_count": null,
      "metadata": {
        "colab": {
          "base_uri": "https://localhost:8080/"
        },
        "id": "i1Wrq_w6GptM",
        "outputId": "7c0f753b-07f7-4717-e258-605d3afbd1c5"
      },
      "outputs": [
        {
          "output_type": "stream",
          "name": "stdout",
          "text": [
            "[[1 2 3]\n",
            " [4 5 6]\n",
            " [5 5 5]\n",
            " [6 6 6]]\n"
          ]
        },
        {
          "output_type": "execute_result",
          "data": {
            "text/plain": [
              "[array([[1, 2, 3]]),\n",
              " array([[4, 5, 6]]),\n",
              " array([[5, 5, 5],\n",
              "        [6, 6, 6]])]"
            ]
          },
          "metadata": {},
          "execution_count": 2
        }
      ],
      "source": [
        "# Import statement\n",
        "import numpy as np\n",
        "arr2d = np.array([[1,2,3],[4,5,6],[5,5,5],[6,6,6]])\n",
        "print(arr2d)\n",
        "np.split(arr2d,[1,2],axis=0)"
      ]
    },
    {
      "cell_type": "markdown",
      "metadata": {
        "id": "HP1PTw6gGptN"
      },
      "source": [
        "## ndarrays"
      ]
    },
    {
      "cell_type": "markdown",
      "metadata": {
        "id": "so9AiWMaGptN"
      },
      "source": [
        "The ndarray is an n-dimensional array object, similar to a list but designed to facilitate fast computation. However, in order for arrays to be useful, they must hold a single type of object. We will mostly focus on numerical (int, float) and boolean arrays.\n",
        "\n",
        "Arrays will most likely be loaded from external data sources (later), but for now, we can create them via casting (using the np.**array** function) or using one of the following generating functions (or class of functions):\n",
        "\n",
        "* np.**arange**(*start*, *stop*, *step*) (similar to range function for lists)\n",
        "* np.**zeros**(*shape*), np.**ones**(*shape*) (where *shape* is a sequence of dimension sizes)\n",
        "* np.random.**rand**(*d0*,*d1*,...,*dn*) (where *d0*,*d1*,...,*dn* are dimension sizes)\n",
        "* np.random.**randn**(*d0*,*d1*,...,*dn*) (where *d0*,*d1*,...,*dn* are dimension sizes)"
      ]
    },
    {
      "cell_type": "code",
      "execution_count": null,
      "metadata": {
        "colab": {
          "base_uri": "https://localhost:8080/"
        },
        "id": "gfSCvaFrGptN",
        "outputId": "7ff09fea-8046-43fd-a7aa-d1bd47acaa3e"
      },
      "outputs": [
        {
          "output_type": "execute_result",
          "data": {
            "text/plain": [
              "array([[[ 1.20912068,  1.12284447],\n",
              "        [ 0.40954276, -0.66342321]],\n",
              "\n",
              "       [[ 0.3263184 , -0.47849018],\n",
              "        [ 0.21049037,  0.12509471]]])"
            ]
          },
          "metadata": {},
          "execution_count": 15
        }
      ],
      "source": [
        "# Casting from list\n",
        "np.array([1,5,-1,2,4])\n",
        "np.arange(0,10,2)\n",
        "np.zeros((2,3))\n",
        "np.ones((3,3))\n",
        "np.random.rand(2,2,2)\n",
        "np.random.randn(2,2,2)\n"
      ]
    },
    {
      "cell_type": "code",
      "source": [
        "np.arange(10)"
      ],
      "metadata": {
        "colab": {
          "base_uri": "https://localhost:8080/"
        },
        "id": "4ST7DOsHlqM4",
        "outputId": "2b48d21b-0e0c-4fb9-c8a8-02a3c79c3cdc"
      },
      "execution_count": null,
      "outputs": [
        {
          "output_type": "execute_result",
          "data": {
            "text/plain": [
              "array([0, 1, 2, 3, 4, 5, 6, 7, 8, 9])"
            ]
          },
          "metadata": {},
          "execution_count": 24
        }
      ]
    },
    {
      "cell_type": "code",
      "execution_count": null,
      "metadata": {
        "colab": {
          "base_uri": "https://localhost:8080/"
        },
        "id": "UEBCp-z1GptO",
        "outputId": "1f31c5e6-f3e1-4829-d6ec-9019c8133ef4"
      },
      "outputs": [
        {
          "output_type": "stream",
          "name": "stdout",
          "text": [
            "[0 1 2 3 4 5 6 7 8 9]\n",
            "[1 3 5 7 9]\n",
            "[10  8  6  4  2]\n"
          ]
        }
      ],
      "source": [
        "# np.arange\n",
        "arr1d = np.arange(10)\n",
        "print(arr1d)\n",
        "arr1d = np.arange(1,10,2)\n",
        "print(arr1d)\n",
        "arr1d_dec = np.arange(10,1,-2)\n",
        "print(arr1d_dec)"
      ]
    },
    {
      "cell_type": "code",
      "execution_count": null,
      "metadata": {
        "colab": {
          "base_uri": "https://localhost:8080/"
        },
        "id": "iZdcsFoQGptO",
        "outputId": "28237328-b77e-4228-ca20-091594228b55"
      },
      "outputs": [
        {
          "output_type": "stream",
          "name": "stdout",
          "text": [
            "[0. 0. 0. 0. 0.]\n",
            "[[0. 0. 0. 0.]\n",
            " [0. 0. 0. 0.]\n",
            " [0. 0. 0. 0.]]\n",
            "[[1. 1. 1. 1. 1. 1. 1. 1. 1. 1.]\n",
            " [1. 1. 1. 1. 1. 1. 1. 1. 1. 1.]\n",
            " [1. 1. 1. 1. 1. 1. 1. 1. 1. 1.]\n",
            " [1. 1. 1. 1. 1. 1. 1. 1. 1. 1.]\n",
            " [1. 1. 1. 1. 1. 1. 1. 1. 1. 1.]]\n",
            "[[[1. 1. 1.]\n",
            "  [1. 1. 1.]\n",
            "  [1. 1. 1.]]\n",
            "\n",
            " [[1. 1. 1.]\n",
            "  [1. 1. 1.]\n",
            "  [1. 1. 1.]]]\n"
          ]
        }
      ],
      "source": [
        "# np.ones, np.zeros\n",
        "arr1d = np.zeros(5)\n",
        "print(arr1d)\n",
        "arr2d = np.zeros((3,4))\n",
        "print(arr2d)\n",
        "arr2d = np.ones((5,10))\n",
        "print(arr2d)\n",
        "arr3d = np.ones((2,3,3))\n",
        "print(arr3d)"
      ]
    },
    {
      "cell_type": "code",
      "execution_count": null,
      "metadata": {
        "colab": {
          "base_uri": "https://localhost:8080/"
        },
        "id": "nFNvI-4BGptP",
        "outputId": "8257a92f-ba8d-4017-c9d6-124056e3e903"
      },
      "outputs": [
        {
          "output_type": "execute_result",
          "data": {
            "text/plain": [
              "array([[0.2153479 , 0.70359464, 0.5600838 ],\n",
              "       [0.96829485, 0.28933264, 0.33225845],\n",
              "       [0.25028016, 0.34548529, 0.03108037]])"
            ]
          },
          "metadata": {},
          "execution_count": 6
        }
      ],
      "source": [
        "# np.random.rand: uniform distribution [0,1), np.random.randn: normal distribution\n",
        "arr2d = np.random.rand(3,3)\n",
        "arr2d"
      ]
    },
    {
      "cell_type": "code",
      "execution_count": null,
      "metadata": {
        "colab": {
          "base_uri": "https://localhost:8080/"
        },
        "id": "5chMNZZwGptP",
        "outputId": "a1405ad0-72b4-4189-c5d5-d48e7e72bb80"
      },
      "outputs": [
        {
          "output_type": "stream",
          "name": "stdout",
          "text": [
            "2\n",
            "(3, 3)\n",
            "float64\n"
          ]
        }
      ],
      "source": [
        "# Common attributes\n",
        "print(arr2d.ndim) # number of dimensions\n",
        "print(arr2d.shape) # shape of array\n",
        "print(arr2d.dtype) # data type"
      ]
    },
    {
      "cell_type": "code",
      "execution_count": null,
      "metadata": {
        "colab": {
          "base_uri": "https://localhost:8080/"
        },
        "id": "5WGihprXGptQ",
        "outputId": "f6d53512-e747-44ce-8be3-2ae37726a620"
      },
      "outputs": [
        {
          "output_type": "execute_result",
          "data": {
            "text/plain": [
              "array([0., 1., 2., 3., 4., 5., 6., 7., 8., 9.])"
            ]
          },
          "metadata": {},
          "execution_count": 10
        }
      ],
      "source": [
        "# Casting to other dtypes\n",
        "x = np.arange(10).astype(float)\n",
        "x"
      ]
    },
    {
      "cell_type": "markdown",
      "metadata": {
        "id": "sa72ZYWUGptQ"
      },
      "source": [
        "See https://docs.scipy.org/doc/numpy/reference/generated/numpy.ndarray.html for additional details on ndarray objects."
      ]
    },
    {
      "cell_type": "markdown",
      "metadata": {
        "id": "EYNQrih3GptQ"
      },
      "source": [
        "## Array Operations"
      ]
    },
    {
      "cell_type": "markdown",
      "metadata": {
        "id": "V6NfyTyQGptQ"
      },
      "source": [
        "As previously stated, arrays are designed to support fast computation and comparison. The most common type of operations are:\n",
        "\n",
        "* Between arrays and scalars\n",
        "* Universal functions (np.func)\n",
        "    - Unary (performed on a single array): abs, sqrt, exp, log, ceil, floor, logical_not, and more\n",
        "    - Binary (performed between two arrays): +, -, /, *, **, min, max, mod, >, >=, <, <=, ==, !=, logical_and, logical_or, logical_xor\n",
        "* Mathematical and statistical functions - Available as NumPy functions (np.func) and array methods (arr.func)\n",
        "    - Aggregation: mean, sum, std, var, min/max, argmin/argmax\n",
        "    - Non-aggregation: cumsum, cumprod"
      ]
    },
    {
      "cell_type": "code",
      "execution_count": null,
      "metadata": {
        "id": "ath58KR3GptR",
        "colab": {
          "base_uri": "https://localhost:8080/"
        },
        "outputId": "cca85ff8-037c-4d83-f9e9-e1256da3a975"
      },
      "outputs": [
        {
          "output_type": "stream",
          "name": "stdout",
          "text": [
            "[[0.30349514 0.45868961 0.02249532]\n",
            " [0.77317518 0.98036493 0.25075424]\n",
            " [0.37857635 0.76541034 0.12933758]]\n"
          ]
        },
        {
          "output_type": "execute_result",
          "data": {
            "text/plain": [
              "array([[2.30349514, 2.45868961, 2.02249532],\n",
              "       [2.77317518, 2.98036493, 2.25075424],\n",
              "       [2.37857635, 2.76541034, 2.12933758]])"
            ]
          },
          "metadata": {},
          "execution_count": 11
        }
      ],
      "source": [
        "# Broadcasting with a scalar\n",
        "arr2d = np.random.rand(3,3)\n",
        "print(arr2d)\n",
        "arr2d + 2"
      ]
    },
    {
      "cell_type": "code",
      "execution_count": null,
      "metadata": {
        "id": "fFd4-vxsGptR",
        "colab": {
          "base_uri": "https://localhost:8080/"
        },
        "outputId": "4fc490b4-1d60-4c01-d836-8bd6d4b095cf"
      },
      "outputs": [
        {
          "output_type": "stream",
          "name": "stdout",
          "text": [
            "[[0.74355566 0.50028852 0.83989381]\n",
            " [0.90622982 0.14108609 0.81939683]\n",
            " [0.66058322 0.93727066 0.17653179]] \n",
            "\n",
            "[[1.74355566 2.50028852 3.83989381]\n",
            " [1.90622982 2.14108609 3.81939683]\n",
            " [1.66058322 2.93727066 3.17653179]] \n",
            "\n",
            "[[1.74355566 1.50028852 1.83989381]\n",
            " [2.90622982 2.14108609 2.81939683]\n",
            " [3.66058322 3.93727066 3.17653179]]\n"
          ]
        }
      ],
      "source": [
        "# Broadcasting with 1-d array / list\n",
        "arr2d = np.random.rand(3,3)\n",
        "print(arr2d,'\\n')\n",
        "print(arr2d + [1,2,3],'\\n')\n",
        "print(arr2d + [[1],[2],[3]])"
      ]
    },
    {
      "cell_type": "code",
      "execution_count": null,
      "metadata": {
        "id": "wAUvoiUCGptR",
        "colab": {
          "base_uri": "https://localhost:8080/"
        },
        "outputId": "6d9503a5-dc70-49ce-bbe1-041acc6d9d0f"
      },
      "outputs": [
        {
          "output_type": "stream",
          "name": "stdout",
          "text": [
            "[[0.24364183 0.07978034 0.91736463]\n",
            " [0.96033726 0.43645403 0.82866617]\n",
            " [0.21212383 0.77177958 0.21509636]]\n",
            "(3, 3)\n",
            "(3, 3)\n"
          ]
        },
        {
          "output_type": "execute_result",
          "data": {
            "text/plain": [
              "array([[False, False,  True],\n",
              "       [ True, False,  True],\n",
              "       [False,  True, False]])"
            ]
          },
          "metadata": {},
          "execution_count": 13
        }
      ],
      "source": [
        "# Comparison with a scalar\n",
        "arr2d = np.random.rand(3,3)\n",
        "print(arr2d)\n",
        "print(arr2d.shape)\n",
        "result = arr2d > 0.5\n",
        "print(result.shape)\n",
        "result"
      ]
    },
    {
      "cell_type": "code",
      "execution_count": null,
      "metadata": {
        "id": "IwiTmy9WGptR",
        "colab": {
          "base_uri": "https://localhost:8080/"
        },
        "outputId": "d16b4027-0bc1-4e36-e835-54b874d793de"
      },
      "outputs": [
        {
          "output_type": "stream",
          "name": "stdout",
          "text": [
            "[[0.58799391 0.36296019 0.17689022]\n",
            " [0.31090154 0.59463525 0.54700181]\n",
            " [0.06345681 0.89102851 0.01249155]] \n",
            "\n"
          ]
        },
        {
          "output_type": "execute_result",
          "data": {
            "text/plain": [
              "array([[0.76680761, 0.60246178, 0.42058319],\n",
              "       [0.55758546, 0.77112596, 0.73959571],\n",
              "       [0.25190635, 0.94394307, 0.11176561]])"
            ]
          },
          "metadata": {},
          "execution_count": 14
        }
      ],
      "source": [
        "# Unary functions\n",
        "arr2d = np.random.rand(3,3)\n",
        "print(arr2d,'\\n')\n",
        "np.sqrt(arr2d)"
      ]
    },
    {
      "cell_type": "code",
      "execution_count": null,
      "metadata": {
        "id": "DfcG8UDKGptR",
        "colab": {
          "base_uri": "https://localhost:8080/"
        },
        "outputId": "cdb1d96a-b4f6-4440-883f-1a64794d934d"
      },
      "outputs": [
        {
          "output_type": "stream",
          "name": "stdout",
          "text": [
            "[[0.59851519 0.04745244 0.28351904]\n",
            " [0.36166917 0.77390481 0.29898737]\n",
            " [0.16090933 0.85507011 0.8579086 ]]\n"
          ]
        },
        {
          "output_type": "execute_result",
          "data": {
            "text/plain": [
              "array([[0.35822043, 0.00225173, 0.08038305],\n",
              "       [0.13080459, 0.59892865, 0.08939345],\n",
              "       [0.02589181, 0.7311449 , 0.73600717]])"
            ]
          },
          "metadata": {},
          "execution_count": 15
        }
      ],
      "source": [
        "# Binary functions\n",
        "arr2d = np.random.rand(3,3)\n",
        "print(arr2d)\n",
        "arr2d * arr2d"
      ]
    },
    {
      "cell_type": "code",
      "execution_count": null,
      "metadata": {
        "id": "Ki5WT4gTGptR",
        "colab": {
          "base_uri": "https://localhost:8080/"
        },
        "outputId": "b9208a9e-91ce-41f7-edbf-25a70ce8af84"
      },
      "outputs": [
        {
          "output_type": "stream",
          "name": "stdout",
          "text": [
            "[[0.75016969 0.27372699 0.0486709 ]\n",
            " [0.89186565 0.52930071 0.22995081]\n",
            " [0.98663099 0.23810289 0.13712192]] \n",
            "\n"
          ]
        },
        {
          "output_type": "execute_result",
          "data": {
            "text/plain": [
              "0.4539489520208044"
            ]
          },
          "metadata": {},
          "execution_count": 58
        }
      ],
      "source": [
        "# Aggregation function\n",
        "arr2d = np.random.rand(3,3)\n",
        "print(arr2d,'\\n')\n",
        "np.mean(arr2d)"
      ]
    },
    {
      "cell_type": "code",
      "execution_count": null,
      "metadata": {
        "id": "3tB_b1OSGptS",
        "colab": {
          "base_uri": "https://localhost:8080/"
        },
        "outputId": "f3c911b8-d0bb-4519-cfea-c4b294aa6db7"
      },
      "outputs": [
        {
          "output_type": "stream",
          "name": "stdout",
          "text": [
            "[[0.38418307 0.1488595  0.95301889]\n",
            " [0.43851462 0.1973881  0.43497509]\n",
            " [0.20159641 0.91749105 0.64455275]] \n",
            "\n"
          ]
        },
        {
          "output_type": "execute_result",
          "data": {
            "text/plain": [
              "array([0.34143137, 0.42124622, 0.67751557])"
            ]
          },
          "metadata": {},
          "execution_count": 59
        }
      ],
      "source": [
        "arr2d = np.random.rand(3,3)\n",
        "print(arr2d,'\\n')\n",
        "x = np.mean(arr2d,axis=0)\n",
        "x"
      ]
    },
    {
      "cell_type": "code",
      "execution_count": null,
      "metadata": {
        "id": "xSEhP4ebGptS",
        "colab": {
          "base_uri": "https://localhost:8080/"
        },
        "outputId": "3f0a5ca6-78de-4b71-9359-e98f305bb319"
      },
      "outputs": [
        {
          "output_type": "execute_result",
          "data": {
            "text/plain": [
              "array([0.49535382, 0.35695927, 0.58788007])"
            ]
          },
          "metadata": {},
          "execution_count": 60
        }
      ],
      "source": [
        "np.mean(arr2d,axis=1)"
      ]
    },
    {
      "cell_type": "code",
      "source": [
        "arr3d = np.array([[[1,2,3],[2,2,2]],[[1,1,1],[3,3,3]]])\n",
        "print(arr3d, '\\n')\n",
        "x = np.mean(arr3d, axis=-2)\n",
        "print(x)"
      ],
      "metadata": {
        "colab": {
          "base_uri": "https://localhost:8080/"
        },
        "id": "fTczyWSdgTVn",
        "outputId": "ebbf3630-d2bf-4164-de57-9122414e3a3d"
      },
      "execution_count": null,
      "outputs": [
        {
          "output_type": "stream",
          "name": "stdout",
          "text": [
            "[[[1 2 3]\n",
            "  [2 2 2]]\n",
            "\n",
            " [[1 1 1]\n",
            "  [3 3 3]]] \n",
            "\n",
            "[[1.5 2.  2.5]\n",
            " [2.  2.  2. ]]\n"
          ]
        }
      ]
    },
    {
      "cell_type": "code",
      "execution_count": null,
      "metadata": {
        "id": "87M-C_oxGptS",
        "colab": {
          "base_uri": "https://localhost:8080/"
        },
        "outputId": "214e8ff1-ceca-4742-c8d9-368f7f79a2eb"
      },
      "outputs": [
        {
          "output_type": "stream",
          "name": "stdout",
          "text": [
            "[[0.48131556 0.54887534 0.068902   0.12644259]\n",
            " [0.97582188 0.04636399 0.90432557 0.01362739]\n",
            " [0.69326072 0.32028956 0.04976183 0.83662271]] \n",
            "\n",
            "[[0.48131556 1.0301909  1.0990929  1.22553549]\n",
            " [0.97582188 1.02218586 1.92651144 1.94013883]\n",
            " [0.69326072 1.01355028 1.06331211 1.89993482]] \n",
            "\n",
            "[[0.48131556 0.54887534 0.068902   0.12644259]\n",
            " [1.45713744 0.59523932 0.97322758 0.14006998]\n",
            " [2.15039816 0.91552888 1.02298941 0.9766927 ]] \n",
            "\n",
            "[0.48131556 1.0301909  1.0990929  1.22553549 2.20135737 2.24772135\n",
            " 3.15204693 3.16567432 3.85893504 4.1792246  4.22898643 5.06560914]\n"
          ]
        }
      ],
      "source": [
        "# Non-aggregation function\n",
        "arr2d = np.random.rand(3,4)\n",
        "print(arr2d,'\\n')\n",
        "print(arr2d.cumsum(axis=1),'\\n')\n",
        "print(arr2d.cumsum(axis=0),'\\n')\n",
        "print(arr2d.cumsum())"
      ]
    },
    {
      "cell_type": "code",
      "execution_count": null,
      "metadata": {
        "id": "TGChWcxyGptS",
        "colab": {
          "base_uri": "https://localhost:8080/"
        },
        "outputId": "da1e76c3-9455-448a-8313-33e8cae58969"
      },
      "outputs": [
        {
          "output_type": "stream",
          "name": "stdout",
          "text": [
            "[[0.92611917 0.90722632 0.09125576 0.84093905]\n",
            " [0.04984312 0.41894851 0.45788067 0.15396453]\n",
            " [0.98801729 0.31434004 0.73592878 0.83175202]] \n",
            "\n"
          ]
        },
        {
          "output_type": "execute_result",
          "data": {
            "text/plain": [
              "array([[0.92611917, 0.90722632, 0.09125576, 0.84093905],\n",
              "       [0.97596229, 1.32617483, 0.54913643, 0.99490358],\n",
              "       [1.96397958, 1.64051487, 1.28506521, 1.82665559]])"
            ]
          },
          "metadata": {},
          "execution_count": 35
        }
      ],
      "source": [
        "print(arr2d,'\\n')\n",
        "arr2d.cumsum(axis=0)"
      ]
    },
    {
      "cell_type": "code",
      "execution_count": null,
      "metadata": {
        "id": "pRKFABa6GptS",
        "colab": {
          "base_uri": "https://localhost:8080/"
        },
        "outputId": "9a0f72f8-dafb-41b8-9f8d-07f111827394"
      },
      "outputs": [
        {
          "output_type": "stream",
          "name": "stdout",
          "text": [
            "[[0.61475176 0.37156081 0.007913   0.04343997]\n",
            " [0.41730467 0.78642276 0.50445412 0.14762043]\n",
            " [0.92974985 0.57657874 0.39663184 0.96718814]] \n",
            "\n"
          ]
        },
        {
          "output_type": "execute_result",
          "data": {
            "text/plain": [
              "array([[0.61475176, 0.98631257, 0.99422557, 1.03766554],\n",
              "       [0.41730467, 1.20372743, 1.70818155, 1.85580198],\n",
              "       [0.92974985, 1.50632859, 1.90296044, 2.87014858]])"
            ]
          },
          "metadata": {},
          "execution_count": 12
        }
      ],
      "source": [
        "print(arr2d,'\\n')\n",
        "arr2d.cumsum(axis=1)"
      ]
    },
    {
      "cell_type": "markdown",
      "metadata": {
        "id": "xB0llGjlGptS"
      },
      "source": [
        "## Arrays vs. Lists"
      ]
    },
    {
      "cell_type": "markdown",
      "metadata": {
        "id": "DS-sGo80GptS"
      },
      "source": [
        "Arrays may seem similar to lists (e.g., they are both mutable and iterable sequences), but they are distinct data structures. Be sure to use an array whenever you are performing any large scale computations or comparisons."
      ]
    },
    {
      "cell_type": "code",
      "execution_count": null,
      "metadata": {
        "id": "FQbFCxQcGptS",
        "colab": {
          "base_uri": "https://localhost:8080/"
        },
        "outputId": "8ae79205-27be-4ccd-e1b5-6a1c6d76cb7b"
      },
      "outputs": [
        {
          "output_type": "stream",
          "name": "stdout",
          "text": [
            "[0, 1, 2, 3, 4, 5, 6, 7, 8, 9, 0, 1, 2, 3, 4, 5, 6, 7, 8, 9]\n",
            "[0, 1, 2, 3, 4, 5, 6, 7, 8, 9, 0, 1, 2, 3, 4, 5, 6, 7, 8, 9, 0, 1, 2, 3, 4, 5, 6, 7, 8, 9]\n"
          ]
        }
      ],
      "source": [
        "# List operations\n",
        "L = list(range(10))\n",
        "print(L + L)\n",
        "print(L * 3)"
      ]
    },
    {
      "cell_type": "code",
      "execution_count": null,
      "metadata": {
        "id": "1rRI6u1fGptS",
        "colab": {
          "base_uri": "https://localhost:8080/"
        },
        "outputId": "6c67a1f1-7f62-4bdc-a5e7-f3d1f32e9480"
      },
      "outputs": [
        {
          "output_type": "stream",
          "name": "stdout",
          "text": [
            "[0 1 2 3 4 5 6 7 8 9]\n",
            "[ 0  2  4  6  8 10 12 14 16 18]\n",
            "[ 0  3  6  9 12 15 18 21 24 27]\n"
          ]
        }
      ],
      "source": [
        "# Array operations\n",
        "arr = np.arange(10)\n",
        "print(arr)\n",
        "print(arr + arr);\n",
        "print(arr * 3);"
      ]
    },
    {
      "cell_type": "markdown",
      "metadata": {
        "id": "VAl_gheNGptS"
      },
      "source": [
        "In addition, lists do not have restrictions on the size of nested sequences, whereas arrays have restrictions for constructing a useful form of the object."
      ]
    },
    {
      "cell_type": "code",
      "execution_count": null,
      "metadata": {
        "id": "-0-U-tb7GptS",
        "colab": {
          "base_uri": "https://localhost:8080/",
          "height": 146
        },
        "outputId": "74f77456-f99f-4240-e000-86fd5e92c708"
      },
      "outputs": [
        {
          "output_type": "error",
          "ename": "ValueError",
          "evalue": "setting an array element with a sequence. The requested array has an inhomogeneous shape after 1 dimensions. The detected shape was (3,) + inhomogeneous part.",
          "traceback": [
            "\u001b[0;31m---------------------------------------------------------------------------\u001b[0m",
            "\u001b[0;31mValueError\u001b[0m                                Traceback (most recent call last)",
            "\u001b[0;32m<ipython-input-33-cbff09feed7e>\u001b[0m in \u001b[0;36m<cell line: 0>\u001b[0;34m()\u001b[0m\n\u001b[0;32m----> 1\u001b[0;31m \u001b[0mnp\u001b[0m\u001b[0;34m.\u001b[0m\u001b[0marray\u001b[0m\u001b[0;34m(\u001b[0m\u001b[0;34m[\u001b[0m\u001b[0;34m[\u001b[0m\u001b[0;36m1\u001b[0m\u001b[0;34m,\u001b[0m\u001b[0;36m2\u001b[0m\u001b[0;34m,\u001b[0m\u001b[0;36m3\u001b[0m\u001b[0;34m]\u001b[0m\u001b[0;34m,\u001b[0m\u001b[0;34m[\u001b[0m\u001b[0;36m4\u001b[0m\u001b[0;34m,\u001b[0m\u001b[0;36m5\u001b[0m\u001b[0;34m,\u001b[0m\u001b[0;36m6\u001b[0m\u001b[0;34m,\u001b[0m\u001b[0;36m7\u001b[0m\u001b[0;34m]\u001b[0m\u001b[0;34m,\u001b[0m\u001b[0;34m[\u001b[0m\u001b[0;36m8\u001b[0m\u001b[0;34m,\u001b[0m\u001b[0;36m9\u001b[0m\u001b[0;34m]\u001b[0m\u001b[0;34m]\u001b[0m\u001b[0;34m)\u001b[0m\u001b[0;34m\u001b[0m\u001b[0;34m\u001b[0m\u001b[0m\n\u001b[0m",
            "\u001b[0;31mValueError\u001b[0m: setting an array element with a sequence. The requested array has an inhomogeneous shape after 1 dimensions. The detected shape was (3,) + inhomogeneous part."
          ]
        }
      ],
      "source": [
        "np.array([[1,2,3],[4,5,6,7],[8,9]])"
      ]
    },
    {
      "cell_type": "code",
      "execution_count": null,
      "metadata": {
        "id": "2IJ1WbmyGptT",
        "colab": {
          "base_uri": "https://localhost:8080/"
        },
        "outputId": "bfef48cd-3263-4ab9-bcdf-957843515d1a"
      },
      "outputs": [
        {
          "output_type": "stream",
          "name": "stdout",
          "text": [
            "[[1 2 3]\n",
            " [4 5 6]\n",
            " [7 8 9]]\n",
            "2\n",
            "(3, 3)\n"
          ]
        }
      ],
      "source": [
        "x = np.array([[1,2,3],[4,5,6],[7,8,9]])\n",
        "print(x)\n",
        "print(x.ndim)\n",
        "print(x.shape)"
      ]
    },
    {
      "cell_type": "markdown",
      "metadata": {
        "id": "FAx-8TijGptT"
      },
      "source": [
        "## Indexing and Slicing"
      ]
    },
    {
      "cell_type": "markdown",
      "metadata": {
        "id": "3f7uoc17GptT"
      },
      "source": [
        "Indexing and slicing arrays is similar to lists..."
      ]
    },
    {
      "cell_type": "code",
      "execution_count": null,
      "metadata": {
        "id": "wEhuE49kGptT",
        "colab": {
          "base_uri": "https://localhost:8080/"
        },
        "outputId": "fc10c4da-7f47-4817-a741-5ba5d7d27e89"
      },
      "outputs": [
        {
          "output_type": "stream",
          "name": "stdout",
          "text": [
            "[ 2  4  6  8 10 12 14 16 18]\n",
            "12\n",
            "18\n",
            "[12 14 16]\n",
            "[ 2  6 10 14 18]\n",
            "[18 14 10  6  2]\n",
            "[18 14 10  6]\n"
          ]
        }
      ],
      "source": [
        "arr = np.arange(2,20,2)\n",
        "print(arr)\n",
        "print(arr[5])\n",
        "print(arr[-1])\n",
        "print(arr[5:8])\n",
        "print(arr[::2])\n",
        "print(arr[::-2])\n",
        "print(arr[10:1:-2])"
      ]
    },
    {
      "cell_type": "markdown",
      "metadata": {
        "id": "eIYOh1CjGptT"
      },
      "source": [
        "...but unlike lists, array slices are views on the original array, so any updates to the array slice will be reflected in the original array. Consider the following example, in which we combine indexing with assignment (which also works as you would expect)."
      ]
    },
    {
      "cell_type": "code",
      "execution_count": null,
      "metadata": {
        "colab": {
          "base_uri": "https://localhost:8080/"
        },
        "id": "w6mgZCwjGptT",
        "outputId": "cb7d8585-36c6-40df-b964-5970574a21be"
      },
      "outputs": [
        {
          "output_type": "stream",
          "name": "stdout",
          "text": [
            "[0, 1, 2, 3, 4, 5, 6, 7, 8, 9]\n",
            "[5, 6, 7]\n",
            "[-10, 6, 7]\n",
            "[0, 1, 2, 3, 4, 5, 6, 7, 8, 9]\n"
          ]
        }
      ],
      "source": [
        "# list operations\n",
        "print(L)\n",
        "list_slice = L[5:8]\n",
        "print(list_slice)\n",
        "list_slice[0] = -10\n",
        "print(list_slice)\n",
        "print(L)"
      ]
    },
    {
      "cell_type": "code",
      "execution_count": null,
      "metadata": {
        "colab": {
          "base_uri": "https://localhost:8080/"
        },
        "id": "uTCDCrs9GptT",
        "outputId": "20125320-0916-43df-93d4-e89e2177a5b1"
      },
      "outputs": [
        {
          "output_type": "stream",
          "name": "stdout",
          "text": [
            "[0 1 2 3 4 5 6 7 8 9]\n",
            "[5 6 7]\n",
            "[-10   6   7]\n",
            "[  0   1   2   3   4 -10   6   7   8   9]\n"
          ]
        }
      ],
      "source": [
        "print(arr)\n",
        "arr_slice = arr[5:8]\n",
        "print(arr_slice)\n",
        "arr_slice[0] = -10\n",
        "print(arr_slice)\n",
        "print(arr)"
      ]
    },
    {
      "cell_type": "markdown",
      "metadata": {
        "id": "jWMaNoGrGptT"
      },
      "source": [
        "Indexing via index and boolean arrays are convenient ways of filtering an array. In this case, these operations return a copy of the array, as opposed to a view on the original array as in the case of slicing."
      ]
    },
    {
      "cell_type": "code",
      "execution_count": null,
      "metadata": {
        "id": "AW-esatcGptT",
        "colab": {
          "base_uri": "https://localhost:8080/"
        },
        "outputId": "22e6f7a2-fe42-470b-8c3b-7ed40899c77b"
      },
      "outputs": [
        {
          "output_type": "stream",
          "name": "stdout",
          "text": [
            "[ 2  4  6  8 10 12 14 16 18 20]\n",
            "[ 4  2  4  8 20 20]\n",
            "[ 5  2  4  8 20 20]\n",
            "[ 2  4  6  8 10 12 14 16 18 20]\n"
          ]
        }
      ],
      "source": [
        "# Index arrays - Each element in the index array is replaced by the corresponding value in the array\n",
        "arr = np.arange(2,22,2)\n",
        "print(arr)\n",
        "x = arr[np.array([1,0,1,3,9,-1])]\n",
        "print(x)\n",
        "x[0] = 5\n",
        "print(x)\n",
        "print(arr)"
      ]
    },
    {
      "cell_type": "code",
      "execution_count": null,
      "metadata": {
        "id": "HS-Ej9gbGptT",
        "colab": {
          "base_uri": "https://localhost:8080/"
        },
        "outputId": "e8acb3b3-771a-427d-9137-deac43f3603c"
      },
      "outputs": [
        {
          "output_type": "stream",
          "name": "stdout",
          "text": [
            "[[0.14394267 0.03321684 0.21479921]\n",
            " [0.8880587  0.81656329 0.0234431 ]] \n",
            "\n",
            "[[ True  True False]\n",
            " [ True  True False]]\n"
          ]
        },
        {
          "output_type": "execute_result",
          "data": {
            "text/plain": [
              "array([0.14394267, 0.03321684, 0.8880587 , 0.81656329])"
            ]
          },
          "metadata": {},
          "execution_count": 43
        }
      ],
      "source": [
        "# Boolean arrays - Each element in the array is returned\n",
        "# if the corresponding boolean scalar is True\n",
        "arr2d = np.random.rand(2,3)\n",
        "print(arr2d,'\\n')\n",
        "x = np.array([[True,True,False],[True,True,False]])\n",
        "print(x)\n",
        "arr2d[x]\n",
        "#arr[np.array([True, False, False, False, False, True, False, False, False, False])]"
      ]
    },
    {
      "cell_type": "code",
      "source": [
        "print(arr,'\\n')"
      ],
      "metadata": {
        "colab": {
          "base_uri": "https://localhost:8080/"
        },
        "id": "L6Tj11idoqW6",
        "outputId": "6b5df722-a484-4ab3-bc5e-8bdeefaae221"
      },
      "execution_count": null,
      "outputs": [
        {
          "output_type": "stream",
          "name": "stdout",
          "text": [
            "[ 2  4  6  8 10 12 14 16 18 20] \n",
            "\n"
          ]
        }
      ]
    },
    {
      "cell_type": "code",
      "execution_count": null,
      "metadata": {
        "id": "X-coaR26GptT",
        "colab": {
          "base_uri": "https://localhost:8080/"
        },
        "outputId": "917f7a5b-672f-49d8-8103-4db36126b1d3"
      },
      "outputs": [
        {
          "output_type": "stream",
          "name": "stdout",
          "text": [
            "[ 2  4  6  8 10 12 14 16 18 20] \n",
            "\n"
          ]
        },
        {
          "output_type": "execute_result",
          "data": {
            "text/plain": [
              "array([10, 20])"
            ]
          },
          "metadata": {},
          "execution_count": 25
        }
      ],
      "source": [
        "# Filtering via conditional\n",
        "print(arr,'\\n')\n",
        "arr % 5 == 0\n",
        "arr[arr % 5 == 0]"
      ]
    },
    {
      "cell_type": "markdown",
      "metadata": {
        "id": "E1uPId_zGptT"
      },
      "source": [
        "You can also use boolean arrays to learn about your data."
      ]
    },
    {
      "cell_type": "code",
      "execution_count": null,
      "metadata": {
        "id": "LkVaMEgSGptT",
        "colab": {
          "base_uri": "https://localhost:8080/"
        },
        "outputId": "55bd980f-278a-4a68-d43c-8cd7c82e6b06"
      },
      "outputs": [
        {
          "output_type": "stream",
          "name": "stdout",
          "text": [
            "[[-0.67033248  1.31016519 -1.1328515 ]\n",
            " [-0.68515227  0.20298363  0.52371892]] \n",
            "\n",
            "[[False  True False]\n",
            " [False  True  True]]\n"
          ]
        },
        {
          "output_type": "execute_result",
          "data": {
            "text/plain": [
              "array([1, 2])"
            ]
          },
          "metadata": {},
          "execution_count": 38
        }
      ],
      "source": [
        "# How much of my data satisfies a given condition?\n",
        "arr = np.random.randn(2,3)\n",
        "print(arr,'\\n')\n",
        "print(arr > 0)\n",
        "(arr > 0).sum(axis=1)"
      ]
    },
    {
      "cell_type": "code",
      "execution_count": null,
      "metadata": {
        "id": "5vEgth8_GptT",
        "colab": {
          "base_uri": "https://localhost:8080/"
        },
        "outputId": "114f0d3b-d6ec-4260-a263-2669763d2644"
      },
      "outputs": [
        {
          "output_type": "stream",
          "name": "stdout",
          "text": [
            "[[-0.47920883 -0.36391979  1.05943069]\n",
            " [-0.54791359  0.86788046 -0.27630787]]\n"
          ]
        },
        {
          "output_type": "execute_result",
          "data": {
            "text/plain": [
              "False"
            ]
          },
          "metadata": {},
          "execution_count": 46
        }
      ],
      "source": [
        "# Do any of my data satisfy a given condition?\n",
        "print(arr)\n",
        "(arr > 3).any()"
      ]
    },
    {
      "cell_type": "code",
      "execution_count": null,
      "metadata": {
        "id": "ytI7xm_sGptT",
        "colab": {
          "base_uri": "https://localhost:8080/"
        },
        "outputId": "48784d06-6a46-4022-9461-bfd858a28dbd"
      },
      "outputs": [
        {
          "output_type": "execute_result",
          "data": {
            "text/plain": [
              "True"
            ]
          },
          "metadata": {},
          "execution_count": 48
        }
      ],
      "source": [
        "# Do all of my data satisfy a given condition?\n",
        "np.abs(arr) < 3\n",
        "(np.abs(arr) < 3).all()"
      ]
    },
    {
      "cell_type": "markdown",
      "metadata": {
        "id": "rWWnz76CGptU"
      },
      "source": [
        "Indexing and slicing multi-dimensional arrays is fairly intuitive. Whereas a single dimensional array contains 0-dimensional values (scalars), a 2-dimensional array is an array of 1-d arrays, where the first dimension represents the position of each 1-d array, and the second dimension refers to a specific position within each 1-d array (where all 1-d arrays have the same length). Similarly, a 3-dimension array has 3 dimensions corresponding to the position of each 2-d array, 1-d array, and scalar value, respectively. And so on, for higher dimensions.\n",
        "\n",
        "![](https://i.stack.imgur.com/R2IDC.png \"Multi-dimensional arrays\")\n",
        "\n",
        "When indexing and slicing into an n-d array, each dimension is accessed in order, either via successive indexing or slicing operations or a sequence of dimensional indices or slices. To retain all of the elements for a particular dimension, use the ':' operator."
      ]
    },
    {
      "cell_type": "code",
      "execution_count": null,
      "metadata": {
        "id": "z9R5CWY8GptU",
        "colab": {
          "base_uri": "https://localhost:8080/"
        },
        "outputId": "3d207e94-19f6-426c-95f7-4697d2aee463"
      },
      "outputs": [
        {
          "output_type": "execute_result",
          "data": {
            "text/plain": [
              "array([[0.60556636, 0.6701663 , 0.09333857],\n",
              "       [0.02562839, 0.35311706, 0.33897661],\n",
              "       [0.25076129, 0.47261466, 0.86936739]])"
            ]
          },
          "metadata": {},
          "execution_count": 64
        }
      ],
      "source": [
        "# 2-d array\n",
        "arr2d = np.random.rand(3,3)\n",
        "arr2d"
      ]
    },
    {
      "cell_type": "code",
      "execution_count": null,
      "metadata": {
        "id": "xaq_eOHEGptU",
        "colab": {
          "base_uri": "https://localhost:8080/"
        },
        "outputId": "b6bbda14-ca00-4f87-a97e-d96d235b54df"
      },
      "outputs": [
        {
          "output_type": "stream",
          "name": "stdout",
          "text": [
            "0.6055663648109673\n",
            "0.6055663648109673\n"
          ]
        }
      ],
      "source": [
        "# Index specific element\n",
        "print(arr2d[0][0])\n",
        "print(arr2d[0,0])"
      ]
    },
    {
      "cell_type": "code",
      "execution_count": null,
      "metadata": {
        "id": "eLSmSaIVGptU",
        "colab": {
          "base_uri": "https://localhost:8080/"
        },
        "outputId": "a26c972d-5bdf-4f7d-f537-bf084053d4cd"
      },
      "outputs": [
        {
          "output_type": "stream",
          "name": "stdout",
          "text": [
            "[[0.48131556 0.54887534 0.068902   0.12644259]\n",
            " [0.97582188 0.04636399 0.90432557 0.01362739]\n",
            " [0.69326072 0.32028956 0.04976183 0.83662271]] \n",
            "\n",
            "[0.48131556 0.54887534 0.068902   0.12644259]\n"
          ]
        }
      ],
      "source": [
        "# Slice rows\n",
        "print(arr2d,'\\n')\n",
        "#print(arr2d[0])\n",
        "print(arr2d[0,:])"
      ]
    },
    {
      "cell_type": "code",
      "execution_count": null,
      "metadata": {
        "id": "i13ewIQUGptU",
        "colab": {
          "base_uri": "https://localhost:8080/"
        },
        "outputId": "da428ba0-acd7-4d82-963e-dad9f008b5fb"
      },
      "outputs": [
        {
          "output_type": "execute_result",
          "data": {
            "text/plain": [
              "array([0.54887534, 0.04636399, 0.32028956])"
            ]
          },
          "metadata": {},
          "execution_count": 40
        }
      ],
      "source": [
        "# Slice columns\n",
        "arr2d[:,1]"
      ]
    },
    {
      "cell_type": "code",
      "execution_count": null,
      "metadata": {
        "id": "55R1I4rYGptU",
        "colab": {
          "base_uri": "https://localhost:8080/"
        },
        "outputId": "0396f8a3-d1b1-4e91-851b-88593515e07d"
      },
      "outputs": [
        {
          "output_type": "stream",
          "name": "stdout",
          "text": [
            "[[0.48131556 0.54887534 0.068902   0.12644259]\n",
            " [0.97582188 0.04636399 0.90432557 0.01362739]\n",
            " [0.69326072 0.32028956 0.04976183 0.83662271]]\n",
            "=====\n"
          ]
        },
        {
          "output_type": "execute_result",
          "data": {
            "text/plain": [
              "array([[0.54887534, 0.068902  , 0.12644259],\n",
              "       [0.04636399, 0.90432557, 0.01362739]])"
            ]
          },
          "metadata": {},
          "execution_count": 41
        }
      ],
      "source": [
        "# Fancy slicing\n",
        "# arr2d[x1:x2:x3,y1:y2:y3]\n",
        "print(arr2d)\n",
        "print('=====')\n",
        "arr2d[:2,1:]"
      ]
    },
    {
      "cell_type": "code",
      "execution_count": null,
      "metadata": {
        "id": "KuBIoF08GptU",
        "colab": {
          "base_uri": "https://localhost:8080/"
        },
        "outputId": "9423ffaf-3d44-4860-ab1f-597c6782ffdb"
      },
      "outputs": [
        {
          "output_type": "execute_result",
          "data": {
            "text/plain": [
              "array([[[0.62993964, 0.35701787, 0.36612931],\n",
              "        [0.73867842, 0.85932564, 0.94576253],\n",
              "        [0.95081841, 0.40172061, 0.42424592]],\n",
              "\n",
              "       [[0.98741268, 0.4607928 , 0.70855408],\n",
              "        [0.14907228, 0.1152063 , 0.68200722],\n",
              "        [0.89877565, 0.46832205, 0.35275677]]])"
            ]
          },
          "metadata": {},
          "execution_count": 43
        }
      ],
      "source": [
        "# 3-d array\n",
        "arr3d = np.random.rand(2,3,3).astype(float)\n",
        "arr3d"
      ]
    },
    {
      "cell_type": "code",
      "execution_count": null,
      "metadata": {
        "id": "gpmThgu-GptU",
        "colab": {
          "base_uri": "https://localhost:8080/"
        },
        "outputId": "344a63b8-73a6-4dc8-f320-66c85768daed"
      },
      "outputs": [
        {
          "output_type": "stream",
          "name": "stdout",
          "text": [
            "[[[0.62993964 0.35701787 0.36612931]\n",
            "  [0.73867842 0.85932564 0.94576253]\n",
            "  [0.95081841 0.40172061 0.42424592]]\n",
            "\n",
            " [[0.98741268 0.4607928  0.70855408]\n",
            "  [0.14907228 0.1152063  0.68200722]\n",
            "  [0.89877565 0.46832205 0.35275677]]]\n",
            "=====\n",
            "[[0.4607928  0.70855408]\n",
            " [0.1152063  0.68200722]]\n"
          ]
        }
      ],
      "source": [
        "# Index specific 2-d array\n",
        "print(arr3d)\n",
        "print('=====')\n",
        "print(arr3d[1,:2,1:])"
      ]
    },
    {
      "cell_type": "code",
      "execution_count": null,
      "metadata": {
        "id": "bsjqSyNhGptU",
        "colab": {
          "base_uri": "https://localhost:8080/"
        },
        "outputId": "7111ebd2-b8b6-4854-f11f-a1feab3ea5cd"
      },
      "outputs": [
        {
          "output_type": "stream",
          "name": "stdout",
          "text": [
            "[[[0.62993964 0.35701787 0.36612931]\n",
            "  [0.73867842 0.85932564 0.94576253]\n",
            "  [0.95081841 0.40172061 0.42424592]]\n",
            "\n",
            " [[0.98741268 0.4607928  0.70855408]\n",
            "  [0.14907228 0.1152063  0.68200722]\n",
            "  [0.89877565 0.46832205 0.35275677]]]\n",
            "====\n",
            "[[0.73867842 0.85932564 0.94576253]\n",
            " [0.14907228 0.1152063  0.68200722]]\n"
          ]
        }
      ],
      "source": [
        "# Slicing 3-d array\n",
        "print(arr3d)\n",
        "print('====')\n",
        "print(arr3d[:,1,:])"
      ]
    },
    {
      "cell_type": "code",
      "execution_count": null,
      "metadata": {
        "id": "T_HJunQXGptU",
        "colab": {
          "base_uri": "https://localhost:8080/"
        },
        "outputId": "6b13da74-d4da-448e-9540-dedda3187624"
      },
      "outputs": [
        {
          "output_type": "stream",
          "name": "stdout",
          "text": [
            "[[[0.62993964 0.35701787 0.36612931]\n",
            "  [0.73867842 0.85932564 0.94576253]\n",
            "  [0.95081841 0.40172061 0.42424592]]\n",
            "\n",
            " [[0.98741268 0.4607928  0.70855408]\n",
            "  [0.14907228 0.1152063  0.68200722]\n",
            "  [0.89877565 0.46832205 0.35275677]]]\n",
            "====\n",
            "[[0.35701787 0.85932564 0.40172061]\n",
            " [0.4607928  0.1152063  0.46832205]]\n"
          ]
        }
      ],
      "source": [
        "print(arr3d)\n",
        "print('====')\n",
        "print(arr3d[:,:,1])"
      ]
    },
    {
      "cell_type": "markdown",
      "metadata": {
        "id": "z2RsBx0BGptU"
      },
      "source": [
        "## Other Important Array Methods"
      ]
    },
    {
      "cell_type": "markdown",
      "metadata": {
        "id": "36gxjriEGptU"
      },
      "source": [
        "### Conditional Logic"
      ]
    },
    {
      "cell_type": "markdown",
      "metadata": {
        "id": "llo1C2qZGptU"
      },
      "source": [
        "We saw that ternary expressions were a convenient way for us to generate conditional values:\n",
        "\n",
        "*expr1* if *cond* else *expr2*\n",
        "\n",
        "There are several ways to perform this task for a list (which we could then cast to an array):\n",
        "\n",
        "1. Use a **for** loop\n",
        "2. Use **map** with a lambda function\n",
        "3. Use a list comprehension\n",
        "\n",
        "For arrays, we use the np.**where** function!"
      ]
    },
    {
      "cell_type": "code",
      "execution_count": null,
      "metadata": {
        "id": "IS8WcBubGptU"
      },
      "outputs": [],
      "source": [
        "np.where?"
      ]
    },
    {
      "cell_type": "code",
      "execution_count": null,
      "metadata": {
        "id": "bkEctdcIGptU",
        "colab": {
          "base_uri": "https://localhost:8080/"
        },
        "outputId": "9ad0ed9e-71e3-4e1b-b88d-bf0b00247daf"
      },
      "outputs": [
        {
          "output_type": "stream",
          "name": "stdout",
          "text": [
            "[False  True  True False  True  True  True  True False False]\n",
            "['T' 'T' 'T' 'H' 'T' 'H' 'H' 'T' 'H' 'T']\n"
          ]
        }
      ],
      "source": [
        "# Flip a coin N times\n",
        "N = 10\n",
        "print(np.random.rand(N)>0.5)\n",
        "print(np.where(np.random.rand(N) > 0.5, 'H', 'T'))"
      ]
    },
    {
      "cell_type": "code",
      "execution_count": null,
      "metadata": {
        "id": "-OOp-v1XGptU",
        "colab": {
          "base_uri": "https://localhost:8080/"
        },
        "outputId": "aed5eca9-507c-4cf3-9add-c10b497b08e5"
      },
      "outputs": [
        {
          "output_type": "stream",
          "name": "stdout",
          "text": [
            "[ True  True False False False  True  True  True  True False]\n"
          ]
        },
        {
          "output_type": "execute_result",
          "data": {
            "text/plain": [
              "array([0., 1., 0., 0., 0., 5., 6., 7., 8., 0.])"
            ]
          },
          "metadata": {},
          "execution_count": 56
        }
      ],
      "source": [
        "# Select a value at random\n",
        "N = 10\n",
        "a = np.arange(N)\n",
        "b = np.zeros(N)\n",
        "cond = np.random.rand(N) > 0.5\n",
        "print(cond)\n",
        "np.where(cond, a, b)"
      ]
    },
    {
      "cell_type": "code",
      "execution_count": null,
      "metadata": {
        "id": "I3CR7FUoGptU",
        "colab": {
          "base_uri": "https://localhost:8080/"
        },
        "outputId": "0daa431b-b1e3-4ca0-d9a7-c1c8bd3f62d7"
      },
      "outputs": [
        {
          "output_type": "execute_result",
          "data": {
            "text/plain": [
              "array([ 1., -1., -1.,  0.,  1.,  0.,  1.,  1.,  1.,  0.])"
            ]
          },
          "metadata": {},
          "execution_count": 2
        }
      ],
      "source": [
        "# Nested conditions\n",
        "N = 10\n",
        "a = np.ones(N)\n",
        "b = np.zeros(N)\n",
        "c = -np.ones(N)\n",
        "np.where(np.random.rand(N) > 2/3, a, np.where(np.random.rand(N) > 1/2, b, c))"
      ]
    },
    {
      "cell_type": "markdown",
      "metadata": {
        "id": "TY42itdzGptU"
      },
      "source": [
        "### Sorting"
      ]
    },
    {
      "cell_type": "code",
      "execution_count": null,
      "metadata": {
        "id": "6tr-5--1GptV",
        "colab": {
          "base_uri": "https://localhost:8080/"
        },
        "outputId": "68267ff8-8f0b-4178-e348-9495dd64e8ac"
      },
      "outputs": [
        {
          "output_type": "execute_result",
          "data": {
            "text/plain": [
              "array([0.06195323, 0.88768089, 0.86317584, 0.77258537, 0.65005799,\n",
              "       0.89596947, 0.97069916, 0.13337671, 0.01450898, 0.97775632])"
            ]
          },
          "metadata": {},
          "execution_count": 3
        }
      ],
      "source": [
        "arr = np.random.rand(10)\n",
        "arr"
      ]
    },
    {
      "cell_type": "code",
      "execution_count": null,
      "metadata": {
        "id": "8HRGvbm9GptV",
        "colab": {
          "base_uri": "https://localhost:8080/"
        },
        "outputId": "f4b1cfcb-2f8d-4cba-fe20-9a62643450e6"
      },
      "outputs": [
        {
          "output_type": "execute_result",
          "data": {
            "text/plain": [
              "array([0.01450898, 0.06195323, 0.13337671, 0.65005799, 0.77258537,\n",
              "       0.86317584, 0.88768089, 0.89596947, 0.97069916, 0.97775632])"
            ]
          },
          "metadata": {},
          "execution_count": 4
        }
      ],
      "source": [
        "# Return a copy of sorted array\n",
        "np.sort(arr)"
      ]
    },
    {
      "cell_type": "code",
      "execution_count": null,
      "metadata": {
        "id": "KglSHJeJGptV",
        "colab": {
          "base_uri": "https://localhost:8080/"
        },
        "outputId": "a7d13bad-775c-419c-996b-9c64ab1e808b"
      },
      "outputs": [
        {
          "output_type": "stream",
          "name": "stdout",
          "text": [
            "[0.06195323 0.88768089 0.86317584 0.77258537 0.65005799 0.89596947\n",
            " 0.97069916 0.13337671 0.01450898 0.97775632]\n"
          ]
        }
      ],
      "source": [
        "print(arr)"
      ]
    },
    {
      "cell_type": "code",
      "execution_count": null,
      "metadata": {
        "id": "tWxlRgemGptV",
        "colab": {
          "base_uri": "https://localhost:8080/"
        },
        "outputId": "9d4c1971-2197-47ab-e330-bb94628297d4"
      },
      "outputs": [
        {
          "output_type": "stream",
          "name": "stdout",
          "text": [
            "[[0.32666841 0.08898182 0.02987685 0.73887098]\n",
            " [0.31437894 0.24798777 0.31687965 0.22043315]\n",
            " [0.40666184 0.73296905 0.16242382 0.15241341]]\n",
            "====\n"
          ]
        },
        {
          "output_type": "execute_result",
          "data": {
            "text/plain": [
              "array([[0.31437894, 0.08898182, 0.02987685, 0.15241341],\n",
              "       [0.32666841, 0.24798777, 0.16242382, 0.22043315],\n",
              "       [0.40666184, 0.73296905, 0.31687965, 0.73887098]])"
            ]
          },
          "metadata": {},
          "execution_count": 54
        }
      ],
      "source": [
        "arr = np.random.rand(3,4)\n",
        "print(arr)\n",
        "print('====')\n",
        "np.sort(arr,axis=0)"
      ]
    },
    {
      "cell_type": "code",
      "execution_count": null,
      "metadata": {
        "id": "DqtOLGsoGptV",
        "colab": {
          "base_uri": "https://localhost:8080/"
        },
        "outputId": "127b18c5-7e28-4a8f-b596-b4ad9ba42a81"
      },
      "outputs": [
        {
          "output_type": "stream",
          "name": "stdout",
          "text": [
            "[[[0.6725305  0.88951798 0.02213206 0.91467875]\n",
            "  [0.09962658 0.53670697 0.35614075 0.0531732 ]\n",
            "  [0.37131937 0.209439   0.70323189 0.68513849]]\n",
            "\n",
            " [[0.46281206 0.38574652 0.99535896 0.04864965]\n",
            "  [0.94032864 0.40192301 0.24287751 0.58413134]\n",
            "  [0.03821    0.19245988 0.08880189 0.54538272]]]\n",
            "====\n",
            "[[[1 2 0 1]\n",
            "  [2 1 1 2]\n",
            "  [0 0 2 0]]\n",
            "\n",
            " [[2 2 2 0]\n",
            "  [0 0 1 2]\n",
            "  [1 1 0 1]]]\n"
          ]
        }
      ],
      "source": [
        "# Return sorting indices\n",
        "arr = np.random.rand(2,3,4)\n",
        "print(arr)\n",
        "print('====')\n",
        "#print(np.sort(arr,axis=0))\n",
        "#print('====')\n",
        "#print(np.sort(arr,axis=2))\n",
        "#print('=====')\n",
        "print(np.argsort(arr,axis=1))"
      ]
    },
    {
      "cell_type": "markdown",
      "metadata": {
        "id": "FzEZIjHlGptV"
      },
      "source": [
        "### Set Logic"
      ]
    },
    {
      "cell_type": "code",
      "execution_count": null,
      "metadata": {
        "id": "TuIjf9RiGptV",
        "colab": {
          "base_uri": "https://localhost:8080/"
        },
        "outputId": "8b7e988f-94b5-4e9d-c6bb-e9bf1f19c4a0"
      },
      "outputs": [
        {
          "output_type": "stream",
          "name": "stdout",
          "text": [
            "[0 1 2 3 4 5 6 7 8 9] [20 18 16 14 12 10  8  6  4  2]\n"
          ]
        }
      ],
      "source": [
        "import numpy as np\n",
        "arr1 = np.arange(10)\n",
        "arr2 = np.arange(20,0,-2)\n",
        "print(arr1, arr2)"
      ]
    },
    {
      "cell_type": "code",
      "execution_count": null,
      "metadata": {
        "colab": {
          "base_uri": "https://localhost:8080/"
        },
        "id": "Rm0ClK_2GptV",
        "outputId": "f10c85b0-f051-46ed-92e3-60fd99c7f012"
      },
      "outputs": [
        {
          "output_type": "execute_result",
          "data": {
            "text/plain": [
              "False"
            ]
          },
          "metadata": {},
          "execution_count": 12
        }
      ],
      "source": [
        "# Membership\n",
        "7 in arr2"
      ]
    },
    {
      "cell_type": "code",
      "execution_count": null,
      "metadata": {
        "id": "T4sDzevhGptV",
        "colab": {
          "base_uri": "https://localhost:8080/"
        },
        "outputId": "d3213a66-6861-4eda-d813-1bb809f414ad"
      },
      "outputs": [
        {
          "output_type": "stream",
          "name": "stdout",
          "text": [
            "[ 0 18 32 42 48 50 48 42 32 18] [ 0 18 32 42 48 50]\n"
          ]
        }
      ],
      "source": [
        "# Unique elements\n",
        "print(arr1 * arr2, np.unique(arr1 * arr2))"
      ]
    },
    {
      "cell_type": "code",
      "execution_count": null,
      "metadata": {
        "id": "1d8tBiqhGptV",
        "colab": {
          "base_uri": "https://localhost:8080/"
        },
        "outputId": "adfa57ca-f03e-4bf0-d10e-679a798ea01a"
      },
      "outputs": [
        {
          "output_type": "stream",
          "name": "stdout",
          "text": [
            "[0 1 2 3 4 5 6 7 8 9] [20 18 16 14 12 10  8  6  4  2]\n",
            "===\n",
            "[0 1 3 5 7 9]\n",
            "===\n",
            "[ 0  1  3  5  7  9 10 12 14 16 18 20]\n",
            "===\n",
            "[ 0  1  2  3  4  5  6  7  8  9 10 12 14 16 18 20]\n",
            "===\n",
            "[2 4 6 8]\n"
          ]
        }
      ],
      "source": [
        "# Comparisons - np.intersect1d, .union1d, setdiff1d, setxor1d\n",
        "print(arr1,arr2)\n",
        "print('===')\n",
        "print(np.setdiff1d(arr1,arr2))\n",
        "print('===')\n",
        "print(np.setxor1d(arr1,arr2))\n",
        "print('===')\n",
        "print(np.union1d(arr1,arr2))\n",
        "print('===')\n",
        "print(np.intersect1d(arr1,arr2))"
      ]
    },
    {
      "cell_type": "markdown",
      "metadata": {
        "id": "ixBS_dnQGptV"
      },
      "source": [
        "## Manipulating and Combining Arrays"
      ]
    },
    {
      "cell_type": "markdown",
      "metadata": {
        "id": "MuffmLtuGptV"
      },
      "source": [
        "Sometimes, you will need to manipulate or combine multiple arrays of data prior to performing any analysis. There are a lot of built-in functions for these purposes. Very rarely will you need to develop your own code."
      ]
    },
    {
      "cell_type": "markdown",
      "metadata": {
        "id": "BIQX9Y9XGptV"
      },
      "source": [
        "#### Manipulating Arrays"
      ]
    },
    {
      "cell_type": "code",
      "execution_count": null,
      "metadata": {
        "id": "1JuRtaseGptV",
        "colab": {
          "base_uri": "https://localhost:8080/"
        },
        "outputId": "9649a51b-7e9d-44c0-9da8-9e4af75ba007"
      },
      "outputs": [
        {
          "output_type": "stream",
          "name": "stdout",
          "text": [
            "(8,)\n"
          ]
        },
        {
          "output_type": "execute_result",
          "data": {
            "text/plain": [
              "3"
            ]
          },
          "metadata": {},
          "execution_count": 14
        }
      ],
      "source": [
        "arr = np.arange(8)\n",
        "print(arr.shape)\n",
        "arr2d = np.random.rand(3,5)\n",
        "arr2d.shape[0]"
      ]
    },
    {
      "cell_type": "code",
      "source": [
        "arr = np.arange(8)\n",
        "print(arr)\n",
        "print('=====')"
      ],
      "metadata": {
        "colab": {
          "base_uri": "https://localhost:8080/"
        },
        "id": "buu9G6X43-vm",
        "outputId": "59cc04dd-7270-4caf-cc1a-4ab45662b88e"
      },
      "execution_count": null,
      "outputs": [
        {
          "output_type": "stream",
          "name": "stdout",
          "text": [
            "[0 1 2 3 4 5 6 7]\n",
            "=====\n"
          ]
        }
      ]
    },
    {
      "cell_type": "code",
      "execution_count": null,
      "metadata": {
        "id": "wNsOZ14IGptV",
        "colab": {
          "base_uri": "https://localhost:8080/"
        },
        "outputId": "32c5c6a4-cf71-49f5-c1b3-e3b7d185fc2c"
      },
      "outputs": [
        {
          "output_type": "stream",
          "name": "stdout",
          "text": [
            "[[0 1]\n",
            " [2 3]\n",
            " [4 5]\n",
            " [6 7]]\n",
            "=====\n",
            "[0 1 2 3 4 5 6 7]\n",
            "=====\n",
            "[[[0 1]\n",
            "  [2 3]]\n",
            "\n",
            " [[4 5]\n",
            "  [6 7]]]\n",
            "[[[[0 1]\n",
            "   [2 3]]]\n",
            "\n",
            "\n",
            " [[[4 5]\n",
            "   [6 7]]]]\n"
          ]
        }
      ],
      "source": [
        "# Reshaping arrays: it is very important for the machine learning\n",
        "\n",
        "print(arr.reshape((-1,2)))\n",
        "print('=====')\n",
        "print(arr)\n",
        "print('=====')\n",
        "print(arr.reshape((2,-1,2)))\n",
        "print(arr.reshape((2,1,-1,2))) # automatically determines the other dimension size"
      ]
    },
    {
      "cell_type": "code",
      "execution_count": null,
      "metadata": {
        "id": "MgLND9KdGptV",
        "colab": {
          "base_uri": "https://localhost:8080/"
        },
        "outputId": "0d9d136b-f280-4fad-91b9-5b916063ac5c"
      },
      "outputs": [
        {
          "output_type": "stream",
          "name": "stdout",
          "text": [
            "[0 1 2 3 4 5 6 7]\n"
          ]
        },
        {
          "output_type": "execute_result",
          "data": {
            "text/plain": [
              "array([[0, 4],\n",
              "       [1, 5],\n",
              "       [2, 6],\n",
              "       [3, 7]])"
            ]
          },
          "metadata": {},
          "execution_count": 71
        }
      ],
      "source": [
        "# Transpose\n",
        "print(arr)\n",
        "arr.reshape((2,4)).T # Our first example of chaining methods together"
      ]
    },
    {
      "cell_type": "code",
      "execution_count": null,
      "metadata": {
        "id": "yOCYN4h0GptV",
        "colab": {
          "base_uri": "https://localhost:8080/"
        },
        "outputId": "453fc272-c7ab-47c6-ff81-098a4ce946e9"
      },
      "outputs": [
        {
          "output_type": "stream",
          "name": "stdout",
          "text": [
            "[ 0  1  2  3  4  5  6  7  8  9 10 11 12 13 14 15 16 17 18 19 20 21 22 23]\n",
            "=======\n",
            "[[[ 0  1  2  3]\n",
            "  [ 4  5  6  7]\n",
            "  [ 8  9 10 11]]\n",
            "\n",
            " [[12 13 14 15]\n",
            "  [16 17 18 19]\n",
            "  [20 21 22 23]]]\n",
            "=======\n",
            "[ 0  1  2  3  4  5  6  7  8  9 10 11 12 13 14 15 16 17 18 19 20 21 22 23]\n",
            "=======\n",
            "[ 0 12  4 16  8 20  1 13  5 17  9 21  2 14  6 18 10 22  3 15  7 19 11 23]\n"
          ]
        }
      ],
      "source": [
        "# Flatten\n",
        "arr = np.arange(24)\n",
        "print(arr)\n",
        "print('=======')\n",
        "print(arr.reshape((2,-1,4)))\n",
        "print('=======')\n",
        "print(arr.reshape((2,3,4)).flatten('C')) # row-major C-language style\n",
        "print('=======')\n",
        "print(arr.reshape((2,3,4)).flatten('F')) # column-major Fortran-language style"
      ]
    },
    {
      "cell_type": "markdown",
      "metadata": {
        "id": "0SDl4hSzGptW"
      },
      "source": [
        "#### Combining and Splitting Arrays"
      ]
    },
    {
      "cell_type": "code",
      "execution_count": null,
      "metadata": {
        "id": "nP0ncJIlGptW",
        "colab": {
          "base_uri": "https://localhost:8080/"
        },
        "outputId": "c8c38abd-def5-4d01-a05f-ae9518759d11"
      },
      "outputs": [
        {
          "output_type": "stream",
          "name": "stdout",
          "text": [
            "[[0.3086021  0.81009785]\n",
            " [0.96017877 0.19622608]\n",
            " [0.9607127  0.6717326 ]\n",
            " [0.70845416 0.0972709 ]]\n",
            "=======\n",
            "[[0.14757709 0.57373485]\n",
            " [0.73985223 0.17124275]\n",
            " [0.35440685 0.73904348]\n",
            " [0.59075312 0.13297693]]\n"
          ]
        }
      ],
      "source": [
        "arr1 = np.random.rand(4,2)\n",
        "arr2 = np.random.rand(4,2)\n",
        "print(arr1)\n",
        "print('=======')\n",
        "print(arr2)"
      ]
    },
    {
      "cell_type": "code",
      "execution_count": null,
      "metadata": {
        "id": "CzSantm4GptW",
        "colab": {
          "base_uri": "https://localhost:8080/"
        },
        "outputId": "26648b7f-a53b-4ac0-c466-44313dfaab02"
      },
      "outputs": [
        {
          "output_type": "execute_result",
          "data": {
            "text/plain": [
              "array([[0.3086021 , 0.81009785, 0.14757709, 0.57373485],\n",
              "       [0.96017877, 0.19622608, 0.73985223, 0.17124275],\n",
              "       [0.9607127 , 0.6717326 , 0.35440685, 0.73904348],\n",
              "       [0.70845416, 0.0972709 , 0.59075312, 0.13297693]])"
            ]
          },
          "metadata": {},
          "execution_count": 80
        }
      ],
      "source": [
        "# Concatenation by row\n",
        "np.concatenate([arr1, arr2], axis=1)"
      ]
    },
    {
      "cell_type": "code",
      "execution_count": null,
      "metadata": {
        "id": "ewtRWO8WGptW",
        "colab": {
          "base_uri": "https://localhost:8080/"
        },
        "outputId": "a2290bb2-1dfa-489c-db2a-c579015cedc7"
      },
      "outputs": [
        {
          "output_type": "execute_result",
          "data": {
            "text/plain": [
              "array([[0.3086021 , 0.81009785, 0.14757709, 0.57373485],\n",
              "       [0.96017877, 0.19622608, 0.73985223, 0.17124275],\n",
              "       [0.9607127 , 0.6717326 , 0.35440685, 0.73904348],\n",
              "       [0.70845416, 0.0972709 , 0.59075312, 0.13297693]])"
            ]
          },
          "metadata": {},
          "execution_count": 81
        }
      ],
      "source": [
        "# Stacking rows\n",
        "np.hstack([arr1, arr2]) # also, np.row_stack"
      ]
    },
    {
      "cell_type": "code",
      "execution_count": null,
      "metadata": {
        "id": "s8vlkSMEGptW",
        "colab": {
          "base_uri": "https://localhost:8080/"
        },
        "outputId": "b5088b8e-7e1e-4e0a-c90f-1c6f067e9dee"
      },
      "outputs": [
        {
          "output_type": "execute_result",
          "data": {
            "text/plain": [
              "array([[0.3086021 , 0.81009785],\n",
              "       [0.96017877, 0.19622608],\n",
              "       [0.9607127 , 0.6717326 ],\n",
              "       [0.70845416, 0.0972709 ],\n",
              "       [0.14757709, 0.57373485],\n",
              "       [0.73985223, 0.17124275],\n",
              "       [0.35440685, 0.73904348],\n",
              "       [0.59075312, 0.13297693]])"
            ]
          },
          "metadata": {},
          "execution_count": 82
        }
      ],
      "source": [
        "# Concatenate by column\n",
        "np.concatenate([arr1, arr2], axis=0)"
      ]
    },
    {
      "cell_type": "code",
      "execution_count": null,
      "metadata": {
        "id": "YYdyDU7vGptW",
        "colab": {
          "base_uri": "https://localhost:8080/"
        },
        "outputId": "43aa339b-5ac2-4fa7-a297-a660f76046a2"
      },
      "outputs": [
        {
          "output_type": "execute_result",
          "data": {
            "text/plain": [
              "array([[0.3086021 , 0.81009785],\n",
              "       [0.96017877, 0.19622608],\n",
              "       [0.9607127 , 0.6717326 ],\n",
              "       [0.70845416, 0.0972709 ],\n",
              "       [0.14757709, 0.57373485],\n",
              "       [0.73985223, 0.17124275],\n",
              "       [0.35440685, 0.73904348],\n",
              "       [0.59075312, 0.13297693]])"
            ]
          },
          "metadata": {},
          "execution_count": 83
        }
      ],
      "source": [
        "# Stacking columns\n",
        "np.vstack([arr1, arr2]) # also, np.column_stack"
      ]
    },
    {
      "cell_type": "code",
      "source": [
        "np.split?"
      ],
      "metadata": {
        "id": "TBulb0RyceuB"
      },
      "execution_count": null,
      "outputs": []
    },
    {
      "cell_type": "code",
      "execution_count": null,
      "metadata": {
        "id": "njOgSmZbGptW",
        "colab": {
          "base_uri": "https://localhost:8080/"
        },
        "outputId": "02cc0983-8a29-4b3a-e459-d0d10ef58db1"
      },
      "outputs": [
        {
          "output_type": "stream",
          "name": "stdout",
          "text": [
            "4\n",
            "(80, 40)\n",
            "<class 'list'>\n"
          ]
        },
        {
          "output_type": "execute_result",
          "data": {
            "text/plain": [
              "[array([[0.3086021 , 0.81009785]]),\n",
              " array([[0.96017877, 0.19622608]]),\n",
              " array([[0.9607127 , 0.6717326 ],\n",
              "        [0.70845416, 0.0972709 ]])]"
            ]
          },
          "metadata": {},
          "execution_count": 86
        }
      ],
      "source": [
        "# Splitting arrays\n",
        "#np.split?\n",
        "arr2 = np.random.rand(100,40)\n",
        "x= np.split(arr2,[2,10,20],axis=0)\n",
        "print(len(x))\n",
        "print(x[3].shape)\n",
        "print(type(x))\n",
        "np.split(arr1, [1,2], axis=0) # also, np.hsplit, vsplit"
      ]
    },
    {
      "cell_type": "markdown",
      "metadata": {
        "id": "o6QeBETrGptW"
      },
      "source": [
        "## File Input/Output"
      ]
    },
    {
      "cell_type": "markdown",
      "metadata": {
        "id": "xnj67KygGptW"
      },
      "source": [
        "There are two primary ways to save/load NumPy arrays to/from a file:\n",
        "\n",
        "* Binary format (.npy) - np.**save** and np.**load**\n",
        "* Delimited text file (.txt) - np.**savetxt** and np.**loadtxt** (also, np.**genfromtext** for files with missing data)"
      ]
    },
    {
      "cell_type": "code",
      "execution_count": null,
      "metadata": {
        "id": "7huBHEv-GptW",
        "colab": {
          "base_uri": "https://localhost:8080/",
          "height": 90
        },
        "outputId": "f0940d96-a613-47c0-a1aa-eaedb7a492d2"
      },
      "outputs": [
        {
          "output_type": "stream",
          "name": "stdout",
          "text": [
            "[[0.76613026 0.48018365 0.91837183 0.69230982 0.81001985]\n",
            " [0.95447955 0.75505663 0.61443833 0.42985265 0.11627129]\n",
            " [0.49143105 0.34747085 0.69516257 0.69172734 0.00974311]]\n"
          ]
        },
        {
          "output_type": "execute_result",
          "data": {
            "text/plain": [
              "'/content'"
            ],
            "application/vnd.google.colaboratory.intrinsic+json": {
              "type": "string"
            }
          },
          "metadata": {},
          "execution_count": 87
        }
      ],
      "source": [
        "arr2d = np.random.rand(3,5)\n",
        "print(arr2d)\n",
        "# Print current working directory\n",
        "%pwd"
      ]
    },
    {
      "cell_type": "code",
      "execution_count": null,
      "metadata": {
        "id": "oW5FUI-zGptW"
      },
      "outputs": [],
      "source": [
        "# Save arr2d to binary file\n",
        "np.save('test', arr2d) # function will add the .npy extension"
      ]
    },
    {
      "cell_type": "code",
      "execution_count": null,
      "metadata": {
        "id": "ktR9z2YEGptW",
        "colab": {
          "base_uri": "https://localhost:8080/"
        },
        "outputId": "510690fe-4b51-4ea9-b754-eefb3d534f30"
      },
      "outputs": [
        {
          "output_type": "execute_result",
          "data": {
            "text/plain": [
              "array([[0.76613026, 0.48018365, 0.91837183, 0.69230982, 0.81001985],\n",
              "       [0.95447955, 0.75505663, 0.61443833, 0.42985265, 0.11627129],\n",
              "       [0.49143105, 0.34747085, 0.69516257, 0.69172734, 0.00974311]])"
            ]
          },
          "metadata": {},
          "execution_count": 89
        }
      ],
      "source": [
        "# Delete arr2d and re-load from file\n",
        "del arr2d\n",
        "arr2d = np.load('test.npy') # must include .npy extension\n",
        "arr2d"
      ]
    },
    {
      "cell_type": "code",
      "execution_count": null,
      "metadata": {
        "id": "iqgp7aXzGptW"
      },
      "outputs": [],
      "source": [
        "# Save arr2d to text file\n",
        "np.savetxt('test.txt', arr2d, fmt='%.4f', delimiter=',')"
      ]
    },
    {
      "cell_type": "code",
      "execution_count": null,
      "metadata": {
        "id": "8WpfEY4SGptW",
        "colab": {
          "base_uri": "https://localhost:8080/"
        },
        "outputId": "342d399f-538a-4120-9ac6-ef6baaa67e25"
      },
      "outputs": [
        {
          "output_type": "execute_result",
          "data": {
            "text/plain": [
              "array([[0.8142, 0.6197, 0.9781, 0.2362, 0.509 ],\n",
              "       [0.7547, 0.3282, 0.3924, 0.6913, 0.3947],\n",
              "       [0.4907, 0.1055, 0.2457, 0.0116, 0.4858]])"
            ]
          },
          "metadata": {},
          "execution_count": 8
        }
      ],
      "source": [
        "# Delete arr2d and re-load from file\n",
        "del arr2d\n",
        "arr2d = np.loadtxt('test.txt', delimiter=',')\n",
        "arr2d"
      ]
    }
  ],
  "metadata": {
    "kernelspec": {
      "display_name": "Python 3",
      "language": "python",
      "name": "python3"
    },
    "language_info": {
      "codemirror_mode": {
        "name": "ipython",
        "version": 3
      },
      "file_extension": ".py",
      "mimetype": "text/x-python",
      "name": "python",
      "nbconvert_exporter": "python",
      "pygments_lexer": "ipython3",
      "version": "3.7.4"
    },
    "colab": {
      "provenance": [],
      "collapsed_sections": [
        "xB0llGjlGptS",
        "FAx-8TijGptT",
        "z2RsBx0BGptU",
        "36gxjriEGptU",
        "TY42itdzGptU",
        "FzEZIjHlGptV",
        "ixBS_dnQGptV",
        "BIQX9Y9XGptV",
        "0SDl4hSzGptW",
        "o6QeBETrGptW"
      ],
      "include_colab_link": true
    }
  },
  "nbformat": 4,
  "nbformat_minor": 0
}