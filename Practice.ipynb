{
  "nbformat": 4,
  "nbformat_minor": 0,
  "metadata": {
    "colab": {
      "provenance": [],
      "authorship_tag": "ABX9TyNdRnDG5jq3LWcuaoeMxrV7",
      "include_colab_link": true
    },
    "kernelspec": {
      "name": "python3",
      "display_name": "Python 3"
    },
    "language_info": {
      "name": "python"
    }
  },
  "cells": [
    {
      "cell_type": "markdown",
      "metadata": {
        "id": "view-in-github",
        "colab_type": "text"
      },
      "source": [
        "<a href=\"https://colab.research.google.com/github/Hemkush/Python_Practice/blob/main/Practice.ipynb\" target=\"_parent\"><img src=\"https://colab.research.google.com/assets/colab-badge.svg\" alt=\"Open In Colab\"/></a>"
      ]
    },
    {
      "cell_type": "code",
      "source": [
        "x = [1,2,3,4,5,5]\n",
        "y = {'p':1, 'q':2, 's':3}\n",
        "def myFunc(a, *b, **c):\n",
        "  print(a)\n",
        "  print(b)\n",
        "  print(c)\n",
        "\n",
        "myFunc(1,*x, **y)"
      ],
      "metadata": {
        "colab": {
          "base_uri": "https://localhost:8080/"
        },
        "id": "OHDlX0u838zu",
        "outputId": "c8588cc2-7a89-46dd-e032-fe0011338086"
      },
      "execution_count": null,
      "outputs": [
        {
          "output_type": "stream",
          "name": "stdout",
          "text": [
            "1\n",
            "(1, 2, 3, 4, 5, 5)\n",
            "{'p': 1, 'q': 2, 's': 3}\n"
          ]
        }
      ]
    },
    {
      "cell_type": "code",
      "source": [
        "myString = \"It's correct string.\"\n",
        "print(myString)\n",
        "\n",
        "print(str(123))\n",
        "print(type(str(124)))\n",
        "\n",
        "my_list = ['hello', 'everyone', 'how', 'are', 'you', 'guys']\n",
        "print(' '.join(my_list))"
      ],
      "metadata": {
        "colab": {
          "base_uri": "https://localhost:8080/"
        },
        "id": "jpW8N_KxcVrc",
        "outputId": "17f21cb3-2e84-44ae-a743-e69fc0ac2f2c"
      },
      "execution_count": null,
      "outputs": [
        {
          "output_type": "stream",
          "name": "stdout",
          "text": [
            "It's correct string.\n",
            "123\n",
            "<class 'str'>\n",
            "hello everyone how are you guys\n"
          ]
        }
      ]
    },
    {
      "cell_type": "code",
      "source": [
        "func = lambda a, b : a+b\n",
        "print(func(4,4))\n",
        "\n",
        "func1 = lambda a,s,d,w,r : a+s+d+w+r\n",
        "print(func1(1,2,3,2,2))"
      ],
      "metadata": {
        "colab": {
          "base_uri": "https://localhost:8080/"
        },
        "id": "tmDwe_2R3W89",
        "outputId": "b44c6797-73cd-42d3-a2b8-df9b531afd2f"
      },
      "execution_count": null,
      "outputs": [
        {
          "output_type": "stream",
          "name": "stdout",
          "text": [
            "8\n",
            "10\n"
          ]
        }
      ]
    },
    {
      "cell_type": "code",
      "source": [
        "disct = {1,3,4,5}\n",
        "dis = {i:0 for i in range(1,7)}\n",
        "print(disct)\n",
        "print(dis.values())"
      ],
      "metadata": {
        "id": "b05lJR6H1WA3",
        "outputId": "75fa1ddb-ac7f-4571-bc91-d6e455e641a7",
        "colab": {
          "base_uri": "https://localhost:8080/"
        }
      },
      "execution_count": null,
      "outputs": [
        {
          "output_type": "stream",
          "name": "stdout",
          "text": [
            "{1, 3, 4, 5}\n",
            "dict_values([0, 0, 0, 0, 0, 0])\n"
          ]
        }
      ]
    },
    {
      "cell_type": "code",
      "source": [
        "counts = {'chuck' : 1, 'fred' : 42, 'jan' : 100}\n",
        "for key in counts:\n",
        " print(key, counts[key])\n",
        "\n",
        "students = {'chuck' : 1, 'fred' : 42, 'jan' : 100}\n",
        "for k,v in students.items():\n",
        " print(k,\":\",v)\n"
      ],
      "metadata": {
        "colab": {
          "base_uri": "https://localhost:8080/"
        },
        "id": "qXC72ykHulqS",
        "outputId": "0026d09e-0214-4e74-af01-f9a0ed5878d9"
      },
      "execution_count": null,
      "outputs": [
        {
          "output_type": "stream",
          "name": "stdout",
          "text": [
            "chuck 1\n",
            "fred 42\n",
            "jan 100\n",
            "chuck : 1\n",
            "fred : 42\n",
            "jan : 100\n"
          ]
        }
      ]
    },
    {
      "cell_type": "code",
      "source": [
        "num = int(input('Enter a number:'))\n",
        "def fibonacci(n):\n",
        "  if n==0:\n",
        "    return 0;\n",
        "  elif n==1:\n",
        "    return 1;\n",
        "  else:\n",
        "    return fibonacci(n-1) + fibonacci(n-2)\n",
        "fibonacci(num)"
      ],
      "metadata": {
        "colab": {
          "base_uri": "https://localhost:8080/"
        },
        "id": "3Wv-zwfmgC0O",
        "outputId": "93c2beb3-1ef4-4c00-fe41-616385cf6f92"
      },
      "execution_count": null,
      "outputs": [
        {
          "name": "stdout",
          "output_type": "stream",
          "text": [
            "Enter a number:9\n"
          ]
        },
        {
          "output_type": "execute_result",
          "data": {
            "text/plain": [
              "34"
            ]
          },
          "metadata": {},
          "execution_count": 7
        }
      ]
    },
    {
      "cell_type": "code",
      "source": [
        "num = int(input('Enter a number:'))\n",
        "def factorial(n):\n",
        "  if n == 0:\n",
        "    return 1\n",
        "  else:\n",
        "    return n*factorial(n-1)\n",
        "factorial(num)"
      ],
      "metadata": {
        "colab": {
          "base_uri": "https://localhost:8080/"
        },
        "id": "TbmGZuyqechq",
        "outputId": "d5d57f1b-5335-47db-a4ab-32fbf0076fc6"
      },
      "execution_count": null,
      "outputs": [
        {
          "name": "stdout",
          "output_type": "stream",
          "text": [
            "Enter a number:5\n"
          ]
        },
        {
          "output_type": "execute_result",
          "data": {
            "text/plain": [
              "120"
            ]
          },
          "metadata": {},
          "execution_count": 1
        }
      ]
    },
    {
      "cell_type": "code",
      "source": [
        "purse = {}\n",
        "purse['money'] = 12\n",
        "purse['candy'] = 3\n",
        "purse['tissues'] = 75\n",
        "print(purse)\n",
        "\n",
        "purse['candy'] = purse['candy'] + 2\n",
        "print(purse['candy'])\n",
        "\n",
        "del purse['money']\n",
        "print(purse)\n",
        "\n",
        "print(purse.keys())\n",
        "print(purse.values())\n",
        "print(purse.items())\n",
        "\n",
        "my_dict = {'a': 1, 'b':2, 'c':3}\n",
        "for key in my_dict:\n",
        "  print(key)\n",
        "\n",
        "\n",
        "# purse.has_key('candy')  # throwing error need to check\n",
        "# purse.has_key('hello')"
      ],
      "metadata": {
        "colab": {
          "base_uri": "https://localhost:8080/"
        },
        "id": "GzbT8bGo_BwA",
        "outputId": "f68171db-d6df-46c8-ac01-26bfc76b6922"
      },
      "execution_count": null,
      "outputs": [
        {
          "output_type": "stream",
          "name": "stdout",
          "text": [
            "{'money': 12, 'candy': 3, 'tissues': 75}\n",
            "5\n",
            "{'candy': 5, 'tissues': 75}\n",
            "dict_keys(['candy', 'tissues'])\n",
            "dict_values([5, 75])\n",
            "dict_items([('candy', 5), ('tissues', 75)])\n",
            "a\n",
            "b\n",
            "c\n"
          ]
        }
      ]
    },
    {
      "cell_type": "code",
      "source": [
        "import random;\n",
        "x = random.random()\n",
        "print(x)"
      ],
      "metadata": {
        "colab": {
          "base_uri": "https://localhost:8080/"
        },
        "id": "Ub0VU7jr9ync",
        "outputId": "ce00c159-dce1-4e4b-c4b9-a5bdee8569d9"
      },
      "execution_count": null,
      "outputs": [
        {
          "output_type": "stream",
          "name": "stdout",
          "text": [
            "0.14209010181436443\n"
          ]
        }
      ]
    },
    {
      "cell_type": "code",
      "source": [
        "a_tuple = ('e','t','w','r','e')\n",
        "print(a_tuple)\n",
        "tuple_b = ('A',) + a_tuple[1:]\n",
        "print(tuple_b)\n",
        "\n",
        "(x, y) = (4,'hello')\n",
        "print(y)\n",
        "\n",
        "a, b = (1,7)\n",
        "a,b = b,a\n",
        "print(a)"
      ],
      "metadata": {
        "colab": {
          "base_uri": "https://localhost:8080/"
        },
        "id": "MoEe_mNNpCQu",
        "outputId": "4db0b874-dccb-41e6-884a-795238e00365"
      },
      "execution_count": null,
      "outputs": [
        {
          "output_type": "stream",
          "name": "stdout",
          "text": [
            "('e', 't', 'w', 'r', 'e')\n",
            "('A', 't', 'w', 'r', 'e')\n",
            "hello\n",
            "7\n"
          ]
        }
      ]
    },
    {
      "cell_type": "code",
      "source": [
        "a=[1,2,3]\n",
        "b=['x','y']\n",
        "print('newList', a+b)\n",
        "\n",
        "c = a+b\n",
        "c[2:3] = []\n",
        "print(c)\n",
        "\n",
        "del c[2:3]  #preferred method to delete\n",
        "print(c)\n",
        "\n",
        "d=[]\n",
        "d.append(13)\n",
        "print(d)\n",
        "\n",
        "e=['a','e','t','w','r','e'];\n",
        "e.sort()\n",
        "print(e)\n",
        "\n",
        "f=[3,4,2,5]\n",
        "f.reverse()\n",
        "print('reverse', f)\n",
        "\n",
        "x=[2,4,44,53,6,88,5];\n",
        "print(len(x), max(x), min(x))\n",
        "y=[1, 2, 3]\n",
        "total = sum(y) #throwing error need to check\n"
      ],
      "metadata": {
        "colab": {
          "base_uri": "https://localhost:8080/"
        },
        "id": "M5dKZmR7XHRb",
        "outputId": "8d2f250f-4aa5-4859-8be4-b04f94d00cd0"
      },
      "execution_count": null,
      "outputs": [
        {
          "output_type": "stream",
          "name": "stdout",
          "text": [
            "newList [1, 2, 3, 'x', 'y']\n",
            "[1, 2, 'x', 'y']\n",
            "[1, 2, 'y']\n",
            "[13]\n",
            "['a', 'e', 'e', 'r', 't', 'w']\n",
            "reverse [5, 2, 4, 3]\n",
            "7 88 2\n"
          ]
        }
      ]
    },
    {
      "cell_type": "code",
      "source": [
        "a = list(range(1,4));\n",
        "i=0;\n",
        "sum=0;\n",
        "while i < len(a):\n",
        "  print('check', a[i])\n",
        "  sum+=a[i]\n",
        "  i += 1\n",
        "print('average', sum/len(a))\n",
        "print('completed', sum)"
      ],
      "metadata": {
        "colab": {
          "base_uri": "https://localhost:8080/"
        },
        "id": "NVfiRBUXU_YF",
        "outputId": "555891d1-4fc9-4815-eceb-317e52ef2f98"
      },
      "execution_count": null,
      "outputs": [
        {
          "output_type": "stream",
          "name": "stdout",
          "text": [
            "check 1\n",
            "check 2\n",
            "check 3\n",
            "average 2.0\n",
            "completed 6\n"
          ]
        }
      ]
    },
    {
      "cell_type": "code",
      "source": [
        "print(list(range(3,9)))\n",
        "a = list(range(1,6))\n",
        "for i in a:\n",
        "  if i%2==0:\n",
        "    print('even value', i)\n",
        "  else:\n",
        "    print('say nothing')\n",
        "print('complete')"
      ],
      "metadata": {
        "colab": {
          "base_uri": "https://localhost:8080/"
        },
        "id": "uTP03_QvRoam",
        "outputId": "229e2bbf-9c91-4cf2-98ac-889311c902b3"
      },
      "execution_count": null,
      "outputs": [
        {
          "output_type": "stream",
          "name": "stdout",
          "text": [
            "[3, 4, 5, 6, 7, 8]\n",
            "say nothing\n",
            "even value 2\n",
            "say nothing\n",
            "even value 4\n",
            "say nothing\n",
            "complete\n"
          ]
        }
      ]
    },
    {
      "cell_type": "code",
      "source": [
        "x=[1,2,3,8];\n",
        "print('testing', x[1:-1])"
      ],
      "metadata": {
        "colab": {
          "base_uri": "https://localhost:8080/"
        },
        "id": "HONgCOX-RqJ7",
        "outputId": "6b990bc6-af91-4a1c-9d85-9c25d04fce0f"
      },
      "execution_count": null,
      "outputs": [
        {
          "output_type": "stream",
          "name": "stdout",
          "text": [
            "testing [2, 3]\n"
          ]
        }
      ]
    },
    {
      "cell_type": "code",
      "execution_count": null,
      "metadata": {
        "colab": {
          "base_uri": "https://localhost:8080/"
        },
        "id": "lMd-VDkORO_G",
        "outputId": "08aaadbf-8965-47f7-a3ff-9a965188534a"
      },
      "outputs": [
        {
          "output_type": "stream",
          "name": "stdout",
          "text": [
            "Hello world\n"
          ]
        }
      ],
      "source": [
        "print(\"Hello world\")"
      ]
    }
  ]
}