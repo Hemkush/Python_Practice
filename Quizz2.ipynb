{
  "nbformat": 4,
  "nbformat_minor": 0,
  "metadata": {
    "colab": {
      "provenance": [],
      "authorship_tag": "ABX9TyO01B+KXaUfnwrP2wwC2fKN",
      "include_colab_link": true
    },
    "kernelspec": {
      "name": "python3",
      "display_name": "Python 3"
    },
    "language_info": {
      "name": "python"
    }
  },
  "cells": [
    {
      "cell_type": "markdown",
      "metadata": {
        "id": "view-in-github",
        "colab_type": "text"
      },
      "source": [
        "<a href=\"https://colab.research.google.com/github/Hemkush/Python_Practice/blob/main/Quizz2.ipynb\" target=\"_parent\"><img src=\"https://colab.research.google.com/assets/colab-badge.svg\" alt=\"Open In Colab\"/></a>"
      ]
    },
    {
      "cell_type": "code",
      "execution_count": 1,
      "metadata": {
        "colab": {
          "base_uri": "https://localhost:8080/",
          "height": 176
        },
        "id": "fiCaBcAKbKa6",
        "outputId": "08f8e96e-d93d-4aed-b535-fc07496bec45",
        "collapsed": true
      },
      "outputs": [
        {
          "output_type": "error",
          "ename": "FileNotFoundError",
          "evalue": "[Errno 2] No such file or directory: '/content/test.txt'",
          "traceback": [
            "\u001b[0;31m---------------------------------------------------------------------------\u001b[0m",
            "\u001b[0;31mFileNotFoundError\u001b[0m                         Traceback (most recent call last)",
            "\u001b[0;32m/tmp/ipython-input-1-972885997.py\u001b[0m in \u001b[0;36m<cell line: 0>\u001b[0;34m()\u001b[0m\n\u001b[0;32m----> 1\u001b[0;31m \u001b[0mfr\u001b[0m \u001b[0;34m=\u001b[0m \u001b[0mopen\u001b[0m\u001b[0;34m(\u001b[0m\u001b[0;34m'/content/test.txt'\u001b[0m\u001b[0;34m,\u001b[0m \u001b[0;34m'r'\u001b[0m\u001b[0;34m)\u001b[0m\u001b[0;34m\u001b[0m\u001b[0;34m\u001b[0m\u001b[0m\n\u001b[0m\u001b[1;32m      2\u001b[0m \u001b[0mprint\u001b[0m\u001b[0;34m(\u001b[0m\u001b[0mfr\u001b[0m\u001b[0;34m)\u001b[0m\u001b[0;34m\u001b[0m\u001b[0;34m\u001b[0m\u001b[0m\n\u001b[1;32m      3\u001b[0m \u001b[0mread_file\u001b[0m \u001b[0;34m=\u001b[0m \u001b[0mfr\u001b[0m\u001b[0;34m.\u001b[0m\u001b[0mread\u001b[0m\u001b[0;34m(\u001b[0m\u001b[0;34m)\u001b[0m\u001b[0;34m\u001b[0m\u001b[0;34m\u001b[0m\u001b[0m\n",
            "\u001b[0;31mFileNotFoundError\u001b[0m: [Errno 2] No such file or directory: '/content/test.txt'"
          ]
        }
      ],
      "source": [
        "fr = open('/content/test.txt', 'r')\n",
        "print(fr)\n",
        "read_file = fr.read()"
      ]
    },
    {
      "cell_type": "code",
      "source": [
        "import re\n",
        "number_pat = r'\\d{3}-\\d{3}-\\d{4}'\n",
        "numbers = re.findall(number_pat, read_file)\n",
        "print(numbers)\n",
        "# for line in read_file:\n",
        "#   print(line)\n",
        "print(len(read_file))\n",
        "print (read_file[:20])"
      ],
      "metadata": {
        "colab": {
          "base_uri": "https://localhost:8080/",
          "height": 211
        },
        "id": "Xx7Zbi28clDz",
        "outputId": "e819d56b-dc23-4376-c89d-98fe8a1d1ed2",
        "collapsed": true
      },
      "execution_count": 2,
      "outputs": [
        {
          "output_type": "error",
          "ename": "NameError",
          "evalue": "name 'read_file' is not defined",
          "traceback": [
            "\u001b[0;31m---------------------------------------------------------------------------\u001b[0m",
            "\u001b[0;31mNameError\u001b[0m                                 Traceback (most recent call last)",
            "\u001b[0;32m/tmp/ipython-input-2-945341862.py\u001b[0m in \u001b[0;36m<cell line: 0>\u001b[0;34m()\u001b[0m\n\u001b[1;32m      1\u001b[0m \u001b[0;32mimport\u001b[0m \u001b[0mre\u001b[0m\u001b[0;34m\u001b[0m\u001b[0;34m\u001b[0m\u001b[0m\n\u001b[1;32m      2\u001b[0m \u001b[0mnumber_pat\u001b[0m \u001b[0;34m=\u001b[0m \u001b[0;34mr'\\d{3}-\\d{3}-\\d{4}'\u001b[0m\u001b[0;34m\u001b[0m\u001b[0;34m\u001b[0m\u001b[0m\n\u001b[0;32m----> 3\u001b[0;31m \u001b[0mnumbers\u001b[0m \u001b[0;34m=\u001b[0m \u001b[0mre\u001b[0m\u001b[0;34m.\u001b[0m\u001b[0mfindall\u001b[0m\u001b[0;34m(\u001b[0m\u001b[0mnumber_pat\u001b[0m\u001b[0;34m,\u001b[0m \u001b[0mread_file\u001b[0m\u001b[0;34m)\u001b[0m\u001b[0;34m\u001b[0m\u001b[0;34m\u001b[0m\u001b[0m\n\u001b[0m\u001b[1;32m      4\u001b[0m \u001b[0mprint\u001b[0m\u001b[0;34m(\u001b[0m\u001b[0mnumbers\u001b[0m\u001b[0;34m)\u001b[0m\u001b[0;34m\u001b[0m\u001b[0;34m\u001b[0m\u001b[0m\n\u001b[1;32m      5\u001b[0m \u001b[0;31m# for line in read_file:\u001b[0m\u001b[0;34m\u001b[0m\u001b[0;34m\u001b[0m\u001b[0m\n",
            "\u001b[0;31mNameError\u001b[0m: name 'read_file' is not defined"
          ]
        }
      ]
    },
    {
      "cell_type": "code",
      "source": [
        "getLines = fr.readlines() #We can use readlines() to get a list.\n",
        "print(len(getLines))"
      ],
      "metadata": {
        "id": "ueTtnid8eC_L"
      },
      "execution_count": null,
      "outputs": []
    },
    {
      "cell_type": "code",
      "source": [
        "fh = open('/content/test.txt', 'w')\n",
        "lines = fh.readlines()\n",
        "fh.write('Python is great\\nI like Python')\n",
        "fh.close()\n",
        "\n",
        "#newLines = fh.readlines()"
      ],
      "metadata": {
        "id": "zitPZzLLfpB6"
      },
      "execution_count": null,
      "outputs": []
    },
    {
      "cell_type": "code",
      "source": [
        "import os\n",
        "os.rename('/content/test.txtt','business')\n",
        "# os.remove(file_name)\n",
        "# os.mkdir(\"newdir\")\n",
        "# os.listdir(path)"
      ],
      "metadata": {
        "id": "KZwRuXpfhJMQ"
      },
      "execution_count": null,
      "outputs": []
    },
    {
      "cell_type": "code",
      "source": [
        "import re\n",
        "\n",
        "print(re.findall(r'(\\d+)?', '12345asdfg'),'1')\n",
        "print(re.search(r'(\\d+)?', '12345asdfg'),'2')\n",
        "print(re.findall(r'\\d', '12345asdfg'),'3')\n",
        "print(re.search(r'\\d', '12345asdfg'),'4')\n",
        "print(re.findall(r'\\d+', '12345asdfg'),'5')\n",
        "print(re.search(r'\\d+', '12345asdfg'),'6')\n",
        "print(re.findall(r'(\\d+)', '12345asdfg'),'7')\n",
        "print(re.search(r'(\\d+)', '12345asdfg'),'8')\n",
        "print(re.findall(r'(\\d)+?', '12345asdfg'),'9')\n",
        "print(re.search(r'(\\d)+?', '12345asdfg'),'10')\n",
        "print(re.findall(r'(\\d)+', '12345asdfg'),'11')\n",
        "print(re.search(r'(\\d)+', '12345asdfg'))"
      ],
      "metadata": {
        "colab": {
          "base_uri": "https://localhost:8080/"
        },
        "id": "9RtOaZQWrT93",
        "outputId": "d61cc166-47fc-48a3-e345-5def5dc27be2"
      },
      "execution_count": null,
      "outputs": [
        {
          "output_type": "stream",
          "name": "stdout",
          "text": [
            "['12345', '', '', '', '', '', ''] 1\n",
            "<re.Match object; span=(0, 5), match='12345'> 2\n",
            "['1', '2', '3', '4', '5'] 3\n",
            "<re.Match object; span=(0, 1), match='1'> 4\n",
            "['12345'] 5\n",
            "<re.Match object; span=(0, 5), match='12345'> 6\n",
            "['12345'] 7\n",
            "<re.Match object; span=(0, 5), match='12345'> 8\n",
            "['1', '2', '3', '4', '5'] 9\n",
            "<re.Match object; span=(0, 1), match='1'> 10\n",
            "['5'] 11\n",
            "<re.Match object; span=(0, 5), match='12345'>\n"
          ]
        }
      ]
    },
    {
      "cell_type": "code",
      "source": [
        "print(re.findall(r'\\d[a-z]+?', '12345asdfg'))\n",
        "print(re.search(r'\\d[a-z]+?', '12345asdfg'))"
      ],
      "metadata": {
        "colab": {
          "base_uri": "https://localhost:8080/"
        },
        "id": "TETKNtRB6Ive",
        "outputId": "55dc77aa-1eb1-4a46-e74c-fd7fff0e32d7"
      },
      "execution_count": null,
      "outputs": [
        {
          "output_type": "stream",
          "name": "stdout",
          "text": [
            "['5a']\n",
            "<re.Match object; span=(4, 6), match='5a'>\n"
          ]
        }
      ]
    },
    {
      "cell_type": "code",
      "source": [
        "re.findall(r'.*?hello', 'xxxhello, xhello, hello, ...hello')"
      ],
      "metadata": {
        "colab": {
          "base_uri": "https://localhost:8080/"
        },
        "id": "jf7_TwZ46ewp",
        "outputId": "bec2e324-f9f1-4ddb-c41d-b614ec11dfe3"
      },
      "execution_count": null,
      "outputs": [
        {
          "output_type": "execute_result",
          "data": {
            "text/plain": [
              "['xxxhello', ', xhello', ', hello', ', ...hello']"
            ]
          },
          "metadata": {},
          "execution_count": 5
        }
      ]
    },
    {
      "cell_type": "code",
      "source": [
        "text = 'Clary has 2 friends who she spends a lot time with Susan has 3 brothers'\n",
        "pets = re.findall(r'([a-zA-Z]+)\\s\\w+\\s(\\d)\\s(\\w+)', text)\n",
        "print(pets)\n",
        "\n",
        "print(pets[0][0])"
      ],
      "metadata": {
        "id": "NiAirgCE7Lkk"
      },
      "execution_count": null,
      "outputs": []
    },
    {
      "cell_type": "code",
      "source": [
        "x = re.findall(r'(\\d[a-zA-Z])*?', '3e4r5t6yu')\n",
        "print(x)\n",
        "re.search(r'(\\d[a-zA-Z])*?', '3e4r5t6yu')\n"
      ],
      "metadata": {
        "colab": {
          "base_uri": "https://localhost:8080/"
        },
        "id": "w9am0uGo8fSZ",
        "outputId": "cee0b7c5-c76d-4cda-b2fe-be7c74f7d553"
      },
      "execution_count": null,
      "outputs": [
        {
          "output_type": "stream",
          "name": "stdout",
          "text": [
            "['', '3e', '', '4r', '', '5t', '', '6y', '', '']\n"
          ]
        },
        {
          "output_type": "execute_result",
          "data": {
            "text/plain": [
              "<re.Match object; span=(0, 0), match=''>"
            ]
          },
          "metadata": {},
          "execution_count": 6
        }
      ]
    },
    {
      "cell_type": "code",
      "source": [
        "number= re.findall(r'(\\d\\d)+', '4455666667')\n",
        "print(number)\n",
        "x2 = re.search(r'(\\d\\d)+', '4455666667')\n",
        "print(x2)\n",
        "n = re.findall(r'\\d\\d', '44556666667')\n",
        "print(n)\n",
        "n2 = re.search(r'\\d\\d', '4455666666')\n",
        "print(n2)\n",
        "n1 = re.findall(r'(\\d)+?', '4455666667')\n",
        "print(n1)\n",
        "n3 = re.search(r'(\\d)+?', '4455666666')\n",
        "print(n3)\n",
        "n4 = re.findall(r'(\\d+)', '4455666667')\n",
        "print(n4)\n",
        "n5 = re.search(r'(\\d+)', '4455666666')\n",
        "print(n5)"
      ],
      "metadata": {
        "colab": {
          "base_uri": "https://localhost:8080/"
        },
        "id": "V93f44Wl9ABc",
        "outputId": "4499afdd-77bd-4786-e57f-91809102e59c"
      },
      "execution_count": null,
      "outputs": [
        {
          "output_type": "stream",
          "name": "stdout",
          "text": [
            "['67']\n",
            "<re.Match object; span=(0, 10), match='4455666667'>\n",
            "['44', '55', '66', '66', '66']\n",
            "<re.Match object; span=(0, 2), match='44'>\n",
            "['4', '4', '5', '5', '6', '6', '6', '6', '6', '7']\n",
            "<re.Match object; span=(0, 1), match='4'>\n",
            "['4455666667']\n",
            "<re.Match object; span=(0, 10), match='4455666666'>\n"
          ]
        }
      ]
    },
    {
      "cell_type": "code",
      "source": [
        "re.findall(r'(\\d\\d)+', '4513 and 12')"
      ],
      "metadata": {
        "id": "hq2rCu1jDG2B"
      },
      "execution_count": null,
      "outputs": []
    },
    {
      "cell_type": "code",
      "source": [
        "re.findall(r'(\\d+)', '4533 and 22')"
      ],
      "metadata": {
        "id": "SslmmnheDYc1"
      },
      "execution_count": null,
      "outputs": []
    },
    {
      "cell_type": "code",
      "source": [
        "import re\n",
        "r1 = r'(.+?)\\d'\n",
        "print(re.match(r1, 'wednesday 23/01/3456'))\n",
        "x= re.findall(r1, 'wednesday 23/01/3456')\n",
        "print(x)\n",
        "y = re.search(r1, 'wednesday 23/01/3456')\n",
        "print(y)"
      ],
      "metadata": {
        "id": "DGKFoeEyWAni"
      },
      "execution_count": null,
      "outputs": []
    },
    {
      "cell_type": "code",
      "source": [
        "validCards = 'Please find the valid format of dates among these:2222333344445555, 2222-3333-2222-3333, 3333-33332222-4444, 2222333344447777 and 3434345656567'\n",
        "credit_pat = r\"(?:\\d{4}-){3}\\d{4}|\\d{16}\"  # without using capturing group\n",
        "card_num = re.findall(credit_pat, validCards)\n",
        "print(card_num)\n",
        "\n",
        "credit_pat1 = r\"(?:\\d{4}-){3}(\\d{4})|\\d{16}\"  # with using capturing group\n",
        "card_num1 = re.findall(credit_pat1, validCards)\n",
        "print(card_num1)"
      ],
      "metadata": {
        "id": "h_IarvpPWRsn"
      },
      "execution_count": null,
      "outputs": []
    },
    {
      "cell_type": "code",
      "source": [
        "text = \"Python 3.0 was released on 12-03-2008.\"\n",
        "information = re.search('(\\d{1,2})-(\\d{2})-(\\d{4})', text)\n",
        "print(information.group(3))\n",
        "information.group(0)"
      ],
      "metadata": {
        "id": "7EgRRZz0YIhR"
      },
      "execution_count": null,
      "outputs": []
    },
    {
      "cell_type": "code",
      "source": [
        "text = \"Austin, 78701\"\n",
        "cities = re.search(r\"(?P<city>[A-Za-z]+).*?(?P<zipcode>\\d{5})\", text)\n",
        "cities.group('city')\n",
        "cities.group(0)\n",
        "cities.group('zipcode')"
      ],
      "metadata": {
        "id": "huTPtJqZY4MT"
      },
      "execution_count": null,
      "outputs": []
    },
    {
      "cell_type": "code",
      "source": [
        "sentence = \"I wish you a happy happy birthday!\"\n",
        "print(re.findall(r\"(\\w+)\\s\", sentence))\n",
        "print(re.findall(r\"(\\w+)\\s\\1\", sentence))\n",
        "print(re.search(r\"(\\w+)\\s\\1\", sentence))"
      ],
      "metadata": {
        "id": "1n5LogzqZez5"
      },
      "execution_count": null,
      "outputs": []
    },
    {
      "cell_type": "code",
      "source": [
        "sentence = \"I wish you a happy happy birthday!\"\n",
        "re.sub(r\"(\\w+)\\s\\1\", r\"\\1\", sentence)  # Substitute example"
      ],
      "metadata": {
        "id": "Q94e_Z6AaLgV"
      },
      "execution_count": null,
      "outputs": []
    },
    {
      "cell_type": "code",
      "source": [
        "sentence = \"Your new code number is 23434. Please, enter 23434 to open the door.\"\n",
        "re.findall(r\" (?P<code>\\d{5}).*?(?P=code)\", sentence)  # On backreferencing with the group name capturing group with name only print in findall\n",
        "re.search(r\" (?P<code>\\d{5}).*?(?P=code)\", sentence)\n",
        "re.findall(r\" (\\d{5}).*?\\1\", sentence)"
      ],
      "metadata": {
        "id": "voItkCx7amfY"
      },
      "execution_count": null,
      "outputs": []
    },
    {
      "cell_type": "code",
      "source": [
        "sentence = \"This app is not working! It's repeating the last word word.\"\n",
        "print(re.sub(r\"(?P<word>\\w+)\\s(?P=word)\", r\"\\g<word>\", sentence), '\\n')  # example of substitution with backreference\n",
        "re.search(r\"(?P<word>\\w+)\\s(?P=word)\", sentence)"
      ],
      "metadata": {
        "id": "wIfSUHurcSSn"
      },
      "execution_count": null,
      "outputs": []
    },
    {
      "cell_type": "code",
      "source": [
        "my_string = \"I love the music of Mr.Go. However, the sound was too loud.\"\n",
        "print(re.findall(r\".\\s\", my_string))\n",
        "print(re.split(r\".\\s\", my_string))"
      ],
      "metadata": {
        "id": "FaR01X89coM3"
      },
      "execution_count": null,
      "outputs": []
    },
    {
      "cell_type": "code",
      "source": [
        "# Times\n",
        "import re\n",
        "pat = '(\\d{1,2})(:)(?:\\d\\d)'\n",
        "S = 'The games tomorrow will begin at 1:00, 7:00, and 10:00.'\n",
        "a = re.findall(pat, S)\n",
        "print(a)\n",
        "print(len(a[0]))\n",
        "it = re.finditer(pat, S)\n",
        "for i in it:\n",
        "    print(i.group())"
      ],
      "metadata": {
        "id": "mAXefVSD2egH"
      },
      "execution_count": null,
      "outputs": []
    },
    {
      "cell_type": "code",
      "source": [
        "# Phone numbers\n",
        "pat = '\\(?(\\d{3})\\)?\\s*(\\d{3})-?(\\d{4})'\n",
        "S = 'My phone number is 3015551234.'\n",
        "repl = lambda m: '(' + m.group(1) + ') ' + m.group(2) + '-' + m.group(3)\n",
        "print(re.sub(pat, repl, S))\n",
        "print(re.subn(pat, repl, S, count=2))"
      ],
      "metadata": {
        "id": "p4i3towN4HhU"
      },
      "execution_count": null,
      "outputs": []
    },
    {
      "cell_type": "code",
      "source": [
        "# Parsing URLs\n",
        "pat = '[://|\\.|\\?|#|/]+'\n",
        "S = 'scheme:///www.host.com/path?query#fragment'\n",
        "re.split(pat,S)"
      ],
      "metadata": {
        "id": "yiE1hg0H5GMM"
      },
      "execution_count": null,
      "outputs": []
    },
    {
      "cell_type": "markdown",
      "source": [
        "# Compiling Regex Objects"
      ],
      "metadata": {
        "id": "e41wwyij5t1z"
      }
    },
    {
      "cell_type": "code",
      "source": [
        "date_regex = re.compile('\\d?\\d-[A-Z]+-\\d{2,4}', flags=re.IGNORECASE)\n",
        "date_regex"
      ],
      "metadata": {
        "id": "7QGbL5OO5ybk"
      },
      "execution_count": null,
      "outputs": []
    },
    {
      "cell_type": "code",
      "source": [
        "date_list = ['5-APR-18', '22-February-2018', '12-august-18', '2/8/2016', 'March, 28, 2018']\n",
        "for dt in date_list:\n",
        "    m = date_regex.search(dt)\n",
        "    if m:\n",
        "        print(m.group())\n",
        "    else:\n",
        "        print('No match found, date invalid.')"
      ],
      "metadata": {
        "id": "hnEFQvzU52PZ"
      },
      "execution_count": null,
      "outputs": []
    },
    {
      "cell_type": "markdown",
      "source": [
        "# Positive Lookahead"
      ],
      "metadata": {
        "id": "E064HhexfHJ0"
      }
    },
    {
      "cell_type": "code",
      "source": [
        "my_text = \"tweets.txt transferred, mypass.txt transferred, keywords.txt error\"\n",
        "re.findall(r\"\\w+\\.txt(?=\\stransferred)\", my_text)"
      ],
      "metadata": {
        "id": "LrZdvV_gfKdL"
      },
      "execution_count": null,
      "outputs": []
    },
    {
      "cell_type": "markdown",
      "source": [
        "# Negative Look ahead"
      ],
      "metadata": {
        "id": "AuGWh6mRfmFr"
      }
    },
    {
      "cell_type": "code",
      "source": [
        "my_text = \"tweets.txt transferred, mypass.txt transferred, keywords.txt error\"\n",
        "re.findall(r\"\\w+\\.txt(?!\\stransferred)\", my_text)"
      ],
      "metadata": {
        "id": "hDiZW8s-fp7U"
      },
      "execution_count": null,
      "outputs": []
    },
    {
      "cell_type": "markdown",
      "source": [
        "# Positive look-behind"
      ],
      "metadata": {
        "id": "qv7_iTW8f6MT"
      }
    },
    {
      "cell_type": "code",
      "source": [
        "my_text = \"Member: Angus Young, Member: Chris Slade, Past: Malcolm Young, Past: Cliff Williams.\"\n",
        "re.findall(r\"(?<=Member:\\s)\\w+\\s\\w+\", my_text)"
      ],
      "metadata": {
        "id": "WS1BzjY_f9su"
      },
      "execution_count": null,
      "outputs": []
    },
    {
      "cell_type": "markdown",
      "source": [
        "# Negative Look-behind"
      ],
      "metadata": {
        "id": "u5v7NgfHgC1W"
      }
    },
    {
      "cell_type": "code",
      "source": [
        "my_text = \"Member: Angus Young, Member: Chris Slade, Past: Malcolm Young, Past: Cliff Williams.\"\n",
        "re.findall(r\"(?<!Member:\\s)\\w+\\s\\w+\", my_text)"
      ],
      "metadata": {
        "id": "VE7An1pbgGOE"
      },
      "execution_count": null,
      "outputs": []
    },
    {
      "cell_type": "code",
      "source": [
        "import numpy as np\n",
        "arr2d = np.array([[1,2,3],[4,5,6],[5,5,5],[6,6,6]])\n",
        "print(arr2d)\n",
        "np.split(arr2d,[1,2],axis=0)"
      ],
      "metadata": {
        "id": "Odlza3ZcMoow"
      },
      "execution_count": null,
      "outputs": []
    },
    {
      "cell_type": "code",
      "source": [
        "arr = np.array([1,2,34,5,6])\n",
        "print(arr)\n",
        "arrange1d = np.arange(10)\n",
        "print(arrange1d)\n",
        "arr1d = np.zeros(5)\n",
        "print(arr1d)\n",
        "arr2d = np.zeros((3,4))\n",
        "print(arr2d)\n",
        "arr2d = np.ones((5,10))\n",
        "print(arr2d)\n",
        "arr3d = np.ones((2,3,3))\n",
        "print(arr3d)"
      ],
      "metadata": {
        "id": "fcsrKqSKOa2i"
      },
      "execution_count": null,
      "outputs": []
    },
    {
      "cell_type": "code",
      "source": [
        "arrRand = np.random.rand(3,4)\n",
        "arrRand\n"
      ],
      "metadata": {
        "id": "8sqFTKf4PONB"
      },
      "execution_count": null,
      "outputs": []
    },
    {
      "cell_type": "code",
      "source": [
        "print(arrRand.dtype)\n",
        "print(arrRand.shape)\n",
        "print(arrRand.ndim)"
      ],
      "metadata": {
        "id": "bo0FwhrMPj62"
      },
      "execution_count": null,
      "outputs": []
    },
    {
      "cell_type": "code",
      "source": [
        "x = np.arange(10).astype(float)\n",
        "x"
      ],
      "metadata": {
        "id": "wdjV7oUVQcFx"
      },
      "execution_count": null,
      "outputs": []
    },
    {
      "cell_type": "code",
      "source": [
        "arr2d = np.random.rand(3,3)\n",
        "print(arr2d)\n",
        "arr2d + 2"
      ],
      "metadata": {
        "id": "0wGoPmc_qdO_"
      },
      "execution_count": null,
      "outputs": []
    },
    {
      "cell_type": "code",
      "source": [
        "arr2d = np.random.rand(3,3)\n",
        "print(arr2d,'\\n')\n",
        "arr2d * 2"
      ],
      "metadata": {
        "id": "ZIgMsB1S0ZDE"
      },
      "execution_count": null,
      "outputs": []
    },
    {
      "cell_type": "code",
      "source": [
        "# Broadcasting with 1-d array / list\n",
        "arr2d = np.random.rand(3,3)\n",
        "print(arr2d,'\\n')\n",
        "print(arr2d + [1,2,3],'\\n')\n",
        "print(arr2d + [[1],[2],[3]])"
      ],
      "metadata": {
        "id": "XpOdxbn2q2IB"
      },
      "execution_count": null,
      "outputs": []
    },
    {
      "cell_type": "code",
      "source": [
        "# Comparison with a scalar\n",
        "arr2d = np.random.rand(3,3)\n",
        "print(arr2d)\n",
        "print(arr2d.shape)\n",
        "result = arr2d > 0.5\n",
        "print(result.shape)\n",
        "result"
      ],
      "metadata": {
        "id": "jUEk5OsIrOZE"
      },
      "execution_count": null,
      "outputs": []
    },
    {
      "cell_type": "code",
      "source": [
        "# Unary functions\n",
        "arr2d = np.random.rand(3,3)\n",
        "print(arr2d,'\\n')\n",
        "np.sqrt(arr2d)"
      ],
      "metadata": {
        "id": "Nz9Mm7T0ruSr"
      },
      "execution_count": null,
      "outputs": []
    },
    {
      "cell_type": "code",
      "source": [
        "# Binary functions\n",
        "arr2d = np.random.rand(3,3)\n",
        "print(arr2d)\n",
        "arr2d * arr2d"
      ],
      "metadata": {
        "id": "R_LTwgzfr7KM"
      },
      "execution_count": null,
      "outputs": []
    },
    {
      "cell_type": "code",
      "source": [
        "# Aggregation function\n",
        "arr2d = np.random.rand(3,3)\n",
        "print(arr2d,'\\n')\n",
        "np.mean(arr2d)"
      ],
      "metadata": {
        "id": "zfj2BliasI8D"
      },
      "execution_count": null,
      "outputs": []
    },
    {
      "cell_type": "code",
      "source": [
        "arr2d = np.random.rand(3,3)\n",
        "print(arr2d,'\\n')\n",
        "x = np.mean(arr2d,axis=0)\n",
        "x"
      ],
      "metadata": {
        "id": "-UutRPi2shf2"
      },
      "execution_count": null,
      "outputs": []
    },
    {
      "cell_type": "code",
      "source": [
        "np.mean(arr2d,axis=1)"
      ],
      "metadata": {
        "id": "WC2xlqwOsoPT"
      },
      "execution_count": null,
      "outputs": []
    },
    {
      "cell_type": "code",
      "source": [
        "arr3d = np.array([[[1,2,3],[2,2,2]],[[1,1,1],[3,3,3]]])\n",
        "print(arr3d)\n",
        "print(arr3d.shape)\n",
        "x = np.mean(arr3d, axis=0)\n",
        "x\n"
      ],
      "metadata": {
        "id": "5jgXFehNtCY2"
      },
      "execution_count": null,
      "outputs": []
    },
    {
      "cell_type": "code",
      "source": [
        "y = np.mean(arr3d, axis=1)\n",
        "y"
      ],
      "metadata": {
        "id": "dY6XwwI1tpdX"
      },
      "execution_count": null,
      "outputs": []
    },
    {
      "cell_type": "code",
      "source": [
        "z = np.mean(arr3d, axis=-1)\n",
        "z"
      ],
      "metadata": {
        "id": "jwGHsKoVuOoM"
      },
      "execution_count": null,
      "outputs": []
    },
    {
      "cell_type": "code",
      "source": [
        "# Non-aggregation function\n",
        "arr2d = np.random.rand(3,4)\n",
        "print(arr2d,'\\n')\n",
        "print(arr2d.cumsum(axis=1),'\\n')\n",
        "print(arr2d.cumsum(axis=0),'\\n')\n",
        "print(arr2d.cumsum())"
      ],
      "metadata": {
        "id": "GwtP_NzaufJv"
      },
      "execution_count": null,
      "outputs": []
    },
    {
      "cell_type": "code",
      "source": [
        "arr2d.cumsum(axis=0)"
      ],
      "metadata": {
        "id": "ov73lzDiziW0"
      },
      "execution_count": null,
      "outputs": []
    },
    {
      "cell_type": "code",
      "source": [
        "arr2d.cumsum()"
      ],
      "metadata": {
        "id": "ZIIPmSNuznhu"
      },
      "execution_count": null,
      "outputs": []
    },
    {
      "cell_type": "code",
      "source": [
        "# List operations\n",
        "L = list(range(10))\n",
        "print(L + L)\n",
        "print(L * 3)"
      ],
      "metadata": {
        "id": "O1FhP3KV0t3i"
      },
      "execution_count": null,
      "outputs": []
    },
    {
      "cell_type": "code",
      "source": [
        "# Array operations\n",
        "arr = np.arange(10)\n",
        "print(arr)\n",
        "print(arr + arr);\n",
        "print(arr * 3);"
      ],
      "metadata": {
        "id": "we1q6dWu0u4B"
      },
      "execution_count": null,
      "outputs": []
    },
    {
      "cell_type": "code",
      "source": [
        "np.array([[1,2,3],[4,5,6,7],[8,9]])"
      ],
      "metadata": {
        "id": "HuHxzMKz1Jvi"
      },
      "execution_count": null,
      "outputs": []
    },
    {
      "cell_type": "code",
      "source": [
        "# list operations\n",
        "print(L)\n",
        "list_slice = L[5:8]\n",
        "print(list_slice)\n",
        "list_slice[0] = -10\n",
        "print(list_slice)\n",
        "print(L)"
      ],
      "metadata": {
        "id": "vTtcs7YD1M7E"
      },
      "execution_count": null,
      "outputs": []
    },
    {
      "cell_type": "code",
      "source": [
        "# Array operation\n",
        "print(arr)\n",
        "arr_slice = arr[5:8]\n",
        "print(arr_slice)\n",
        "arr_slice[0] = -10  # it is getting change into main array\n",
        "print(arr_slice)\n",
        "print(arr)"
      ],
      "metadata": {
        "id": "aiQzTUwcaIp4"
      },
      "execution_count": null,
      "outputs": []
    },
    {
      "cell_type": "code",
      "source": [
        "# Index arrays - Each element in the index array is replaced by the corresponding value in the array\n",
        "arr = np.arange(2,22,2)\n",
        "print(arr)\n",
        "print(np.array([1,0,1,3,9,-1]))\n",
        "x = arr[np.array([1,0,1,3,9,-1])]\n",
        "print(x)\n",
        "x[0] = 5\n",
        "print(x)\n",
        "print(arr)"
      ],
      "metadata": {
        "id": "XOodyEnwbsWU"
      },
      "execution_count": null,
      "outputs": []
    },
    {
      "cell_type": "code",
      "source": [
        "# Boolean arrays - Each element in the array is returned\n",
        "# if the corresponding boolean scalar is True\n",
        "arr2d = np.random.rand(2,3)\n",
        "print(arr2d,'\\n')\n",
        "x = np.array([[True,True,False],[True,True,False]])\n",
        "print(x)\n",
        "arr2d[x]\n",
        "#arr[np.array([True, False, False, False, False, True, False, False, False, False])]"
      ],
      "metadata": {
        "id": "BQVjl_8xcgMG"
      },
      "execution_count": null,
      "outputs": []
    },
    {
      "cell_type": "code",
      "source": [
        "# Filtering via conditional\n",
        "print(arr,'\\n')\n",
        "arr % 3 == 0\n",
        "arr[arr % 3 == 0]"
      ],
      "metadata": {
        "id": "rQSGYTOwc04g"
      },
      "execution_count": null,
      "outputs": []
    },
    {
      "cell_type": "code",
      "source": [
        "# How much of my data satisfies a given condition?\n",
        "arr = np.random.randn(2,3)\n",
        "print(arr,'\\n')\n",
        "#arr > 0\n",
        "print((arr > 0).sum(axis=1))\n",
        "(arr > 0).sum(axis=0)"
      ],
      "metadata": {
        "id": "_60Cbma5dtpF"
      },
      "execution_count": null,
      "outputs": []
    },
    {
      "cell_type": "code",
      "source": [
        "# Do any of my data satisfy a given condition?\n",
        "print(arr)\n",
        "(arr > 3).any()"
      ],
      "metadata": {
        "id": "dqguQRa4eRZe"
      },
      "execution_count": null,
      "outputs": []
    },
    {
      "cell_type": "code",
      "source": [
        "# Do all of my data satisfy a given condition?\n",
        "print(arr)\n",
        "print(np.abs(arr))\n",
        "np.abs(arr) < 3\n",
        "(np.abs(arr) < 3).all()"
      ],
      "metadata": {
        "id": "1CoE1dPKejXs"
      },
      "execution_count": null,
      "outputs": []
    },
    {
      "cell_type": "code",
      "source": [
        "# 2-d array\n",
        "arr2d = np.random.rand(3,3)\n",
        "print(arr2d)\n",
        "# Index specific element\n",
        "print(arr2d[0][0])\n",
        "print(arr2d[0,0])\n",
        "print(arr2d[0, :], '\\n')\n",
        "print(arr2d[:, 1:2])"
      ],
      "metadata": {
        "id": "xbgzaTAIfYqe"
      },
      "execution_count": null,
      "outputs": []
    },
    {
      "cell_type": "code",
      "source": [
        "# Fancy slicing\n",
        "# arr2d[x1:x2:x3,y1:y2:y3]\n",
        "print(arr2d)\n",
        "print('=====')\n",
        "arr2d[:2,1:]"
      ],
      "metadata": {
        "id": "91ACjgyhgRUR"
      },
      "execution_count": null,
      "outputs": []
    },
    {
      "cell_type": "code",
      "source": [
        "# 3-d array\n",
        "arr3d = np.random.rand(2,3,3).astype(float)\n",
        "arr3d"
      ],
      "metadata": {
        "id": "gzMJJBgffiC6"
      },
      "execution_count": null,
      "outputs": []
    },
    {
      "cell_type": "code",
      "source": [
        "# Index specific 2-d array\n",
        "print(arr3d.sum(axis=-1), '\\n')\n",
        "print(arr3d)\n",
        "print('=====')\n",
        "print(arr3d[1,:2,1:])"
      ],
      "metadata": {
        "id": "mi4Jq9-chv17"
      },
      "execution_count": null,
      "outputs": []
    },
    {
      "cell_type": "code",
      "source": [
        "# Slicing 3-d array\n",
        "print(arr3d)\n",
        "print('====')\n",
        "arr3d[:,1,:]"
      ],
      "metadata": {
        "id": "1rJarSGFh6Zt"
      },
      "execution_count": null,
      "outputs": []
    },
    {
      "cell_type": "code",
      "source": [
        "print(arr3d)\n",
        "print('====')\n",
        "arr3d[:,:,1]"
      ],
      "metadata": {
        "id": "J8Z4yIa4iSs6"
      },
      "execution_count": null,
      "outputs": []
    },
    {
      "cell_type": "code",
      "source": [
        "# Flip a coin N times\n",
        "N = 10\n",
        "np.random.rand(N)>0.5\n",
        "np.where(np.random.rand(N) > 0.5, 'H', 'T')"
      ],
      "metadata": {
        "id": "eZ_AQITWiVet"
      },
      "execution_count": null,
      "outputs": []
    },
    {
      "cell_type": "code",
      "source": [
        "# Select a value at random\n",
        "N = 10\n",
        "a = np.arange(N)\n",
        "b = np.zeros(N)\n",
        "x = np.random.rand(N)\n",
        "print(x)\n",
        "cond = x > 0.5\n",
        "print(cond)\n",
        "np.where(cond, a, b)"
      ],
      "metadata": {
        "id": "tdZE1KRFkXgM"
      },
      "execution_count": null,
      "outputs": []
    },
    {
      "cell_type": "code",
      "source": [
        "# Nested conditions\n",
        "N = 10\n",
        "a = np.ones(N)\n",
        "b = np.zeros(N)\n",
        "c = -np.ones(N)\n",
        "np.where(np.random.rand(N) > 2/3, a, np.where(np.random.rand(N) > 1/2, b, c))"
      ],
      "metadata": {
        "id": "OwWaCh_2lT5U"
      },
      "execution_count": null,
      "outputs": []
    },
    {
      "cell_type": "code",
      "source": [
        "arr = np.random.rand(10)\n",
        "# Return a copy of sorted array\n",
        "np.sort(arr)"
      ],
      "metadata": {
        "id": "tfoek5Jf4GuH"
      },
      "execution_count": null,
      "outputs": []
    },
    {
      "cell_type": "code",
      "source": [
        "arr = np.random.rand(3,4)\n",
        "print(arr)\n",
        "print('====')\n",
        "np.sort(arr,axis=0)"
      ],
      "metadata": {
        "id": "FZTcGlAH4Wk9"
      },
      "execution_count": null,
      "outputs": []
    },
    {
      "cell_type": "code",
      "source": [
        "# Return sorting indices\n",
        "arr = np.random.rand(2,3,4)\n",
        "print(arr)\n",
        "print('====')\n",
        "print(np.sort(arr,axis=0))\n",
        "print('====')\n",
        "print(np.sort(arr,axis=2))\n",
        "print('=====')\n",
        "print(np.sort(arr,axis=1))\n",
        "print('=====')\n",
        "np.argsort(arr,axis=0)"
      ],
      "metadata": {
        "id": "VYWiLgDt4un7"
      },
      "execution_count": null,
      "outputs": []
    },
    {
      "cell_type": "code",
      "source": [
        "import numpy as np\n",
        "arr1 = np.arange(10)\n",
        "arr2 = np.arange(20,0,-2)\n",
        "print(arr1, arr2)"
      ],
      "metadata": {
        "id": "l2LU2tPu6DNJ"
      },
      "execution_count": null,
      "outputs": []
    },
    {
      "cell_type": "code",
      "source": [
        "#Membership\n",
        "7 in arr2"
      ],
      "metadata": {
        "id": "fcm5jO0s6Ee3"
      },
      "execution_count": null,
      "outputs": []
    },
    {
      "cell_type": "code",
      "source": [
        "# Unique elements\n",
        "print(arr1 * arr2, np.unique(arr1 * arr2))"
      ],
      "metadata": {
        "id": "EBHnW0ui6Zzp"
      },
      "execution_count": null,
      "outputs": []
    },
    {
      "cell_type": "code",
      "source": [
        "# Comparisons - np.intersect1d, .union1d, setdiff1d, setxor1d\n",
        "print(arr1,arr2)\n",
        "print('===')\n",
        "print(np.setdiff1d(arr1,arr2))\n",
        "print('===')\n",
        "print(np.setxor1d(arr1,arr2))\n",
        "print('===')\n",
        "print(np.union1d(arr1,arr2))\n",
        "print('===')\n",
        "print(np.intersect1d(arr1,arr2))"
      ],
      "metadata": {
        "id": "CKIUP7rG6dKv"
      },
      "execution_count": null,
      "outputs": []
    },
    {
      "cell_type": "code",
      "source": [
        "arr = np.arange(8)\n",
        "print(arr.shape)\n",
        "arr2d = np.random.rand(3,5)\n",
        "arr2d.shape[0]"
      ],
      "metadata": {
        "id": "yzkZtRy27ip5"
      },
      "execution_count": null,
      "outputs": []
    },
    {
      "cell_type": "code",
      "source": [
        "# Reshaping arrays\n",
        "\n",
        "print(arr.reshape((-1,2)))\n",
        "print('=====')\n",
        "print(arr)\n",
        "print('=====')\n",
        "print(arr.reshape((2,1,-1,2))) # automatically determines the other dimension size"
      ],
      "metadata": {
        "id": "SypedMCR75vX"
      },
      "execution_count": null,
      "outputs": []
    },
    {
      "cell_type": "code",
      "source": [
        "# Transpose\n",
        "print(arr)\n",
        "arr.reshape((2,4)).T # Our first example of chaining methods together"
      ],
      "metadata": {
        "id": "G1bORh708_Be"
      },
      "execution_count": null,
      "outputs": []
    },
    {
      "cell_type": "code",
      "source": [
        "# Flatten\n",
        "arr = np.arange(24)\n",
        "print(arr)\n",
        "print('=======')\n",
        "print(arr.reshape((2,-1,4)))\n",
        "print('=======')\n",
        "print(arr.reshape((2,3,4)).flatten('C')) # row-major C-language style\n",
        "print('=======')\n",
        "print(arr.reshape((2,3,4)).flatten('F')) # column-major Fortran-language style"
      ],
      "metadata": {
        "id": "SbZggat09l3P"
      },
      "execution_count": null,
      "outputs": []
    },
    {
      "cell_type": "code",
      "source": [
        "arr1 = np.random.rand(4,2)\n",
        "arr2 = np.random.rand(4,2)\n",
        "print(arr1)\n",
        "print('=======')\n",
        "print(arr2)"
      ],
      "metadata": {
        "id": "x32iI1P79784"
      },
      "execution_count": null,
      "outputs": []
    },
    {
      "cell_type": "code",
      "source": [
        "# Concatenation by row\n",
        "np.concatenate([arr1, arr2], axis=0)"
      ],
      "metadata": {
        "id": "idTqGWjG99qk"
      },
      "execution_count": null,
      "outputs": []
    },
    {
      "cell_type": "code",
      "source": [
        "# Stacking rows\n",
        "np.hstack([arr1, arr2]) # also, np.row_stack"
      ],
      "metadata": {
        "id": "XRBdYNDz-MPJ"
      },
      "execution_count": null,
      "outputs": []
    },
    {
      "cell_type": "code",
      "source": [
        "# Stacking columns\n",
        "np.vstack([arr1, arr2]) # also, np.column_stack"
      ],
      "metadata": {
        "id": "u8A19FYd-awm"
      },
      "execution_count": null,
      "outputs": []
    },
    {
      "cell_type": "code",
      "source": [
        "# Splitting arrays\n",
        "#np.split?\n",
        "import numpy as np\n",
        "arr1 = np.random.rand(3,3)\n",
        "arr2 = np.random.rand(100,40)\n",
        "x= np.split(arr2,[2,10,20],axis=0)\n",
        "print(len(x))\n",
        "print(x[3].shape)\n",
        "print(x[2].shape)\n",
        "print(x[1].shape)\n",
        "print(x[0].shape)\n",
        "print(type(x))\n",
        "np.split(arr1, [1,2], axis=0) # also, np.hsplit, vsplit\n",
        "y= np.hsplit(arr2,[2,10,20])\n",
        "print(y[1].shape)"
      ],
      "metadata": {
        "id": "rgSndvkP_qLi"
      },
      "execution_count": null,
      "outputs": []
    },
    {
      "cell_type": "markdown",
      "source": [
        "#File Input/Output"
      ],
      "metadata": {
        "id": "6aZlr6CkJ2k6"
      }
    },
    {
      "cell_type": "code",
      "source": [
        "arr2d = np.random.rand(3,5)\n",
        "print(arr2d)\n",
        "# Print current working directory\n"
      ],
      "metadata": {
        "id": "cVdrFgJyJ7fO"
      },
      "execution_count": null,
      "outputs": []
    },
    {
      "cell_type": "code",
      "source": [
        "# Save arr2d to binary file\n",
        "np.save('test', arr2d) # function will add the .npy extension"
      ],
      "metadata": {
        "id": "6MovdT4BKGtB"
      },
      "execution_count": null,
      "outputs": []
    },
    {
      "cell_type": "code",
      "source": [
        "# delete arr2d\n",
        "del arr2d\n",
        "arr2d = np.load('test.npy') # must include .npy extension\n",
        "arr2d"
      ],
      "metadata": {
        "id": "MBqP5hxqKQUT"
      },
      "execution_count": null,
      "outputs": []
    },
    {
      "cell_type": "code",
      "source": [
        "# Save arr2d to text file\n",
        "np.savetxt('test.txt', arr2d, fmt='%.4f', delimiter=',')"
      ],
      "metadata": {
        "id": "Ow5lRaZAKmGp"
      },
      "execution_count": null,
      "outputs": []
    },
    {
      "cell_type": "code",
      "source": [
        "# Delete arr2d and re-load from file\n",
        "del arr2d\n",
        "arr2d = np.loadtxt('test.txt', delimiter=',')\n",
        "arr2d"
      ],
      "metadata": {
        "id": "BnMssIujLACz"
      },
      "execution_count": null,
      "outputs": []
    },
    {
      "cell_type": "code",
      "source": [
        "import re\n",
        "r1 = r'(.+?)\\d'\n",
        "print(re.match(r1, 'wednesday 23/01/3456'))\n",
        "x= re.findall(r1, 'wednesday 23/01/3456')\n",
        "print(x)\n",
        "y = re.search(r1, 'wednesday 23/01/3456')\n",
        "print(y)"
      ],
      "metadata": {
        "id": "q6wTYGW9LHK7"
      },
      "execution_count": null,
      "outputs": []
    },
    {
      "cell_type": "code",
      "source": [
        "Str = '1234445'\n",
        "X = r'(\\d)+?\\1'\n",
        "print(re.match(X,Str))\n",
        "print(re.findall(X,Str))"
      ],
      "metadata": {
        "id": "4aIgR0ssLw44"
      },
      "execution_count": null,
      "outputs": []
    }
  ]
}