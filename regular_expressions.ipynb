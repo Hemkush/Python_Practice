{
  "cells": [
    {
      "cell_type": "markdown",
      "metadata": {
        "id": "view-in-github",
        "colab_type": "text"
      },
      "source": [
        "<a href=\"https://colab.research.google.com/github/Hemkush/Python_Practice/blob/main/regular_expressions.ipynb\" target=\"_parent\"><img src=\"https://colab.research.google.com/assets/colab-badge.svg\" alt=\"Open In Colab\"/></a>"
      ]
    },
    {
      "cell_type": "markdown",
      "metadata": {
        "id": "P5cOgMVIFCU8"
      },
      "source": [
        "# Regular Expressions"
      ]
    },
    {
      "cell_type": "markdown",
      "metadata": {
        "id": "jwbIPWfpFCU_"
      },
      "source": [
        "Regular expressions provide a powerful and flexible way to search or match patterns in text, which can be combined with other methods for processing textual data. They are a general concept in computer science, and are not specific to Python (e.g., C, Perl). Regular expressions can be used for tasks such as:\n",
        "\n",
        "* Parsing data in many formats (e.g., unstructured text, CSV, HTML, XML, JSON)\n",
        "* Extracting data elements (e.g., email addresses, URLs, IP addresses, user names)\n",
        "* Text formatting and standardization\n",
        "* Data validation\n",
        "* Syntax highlighting\n",
        "* Natural language processing\n",
        "\n",
        "Today, we will explore the core functionality of regular expressions within the **re** module. However, this is a LARGE topic, and one that we will not be able to cover in totality. For additional information, please refer to the Python documentation for the **re** module:\n",
        "\n",
        "* Tutorial: https://docs.python.org/3/howto/regex.html#regex-howto\n",
        "* Complete: https://docs.python.org/3/library/re.html"
      ]
    },
    {
      "cell_type": "code",
      "execution_count": null,
      "metadata": {
        "id": "_mwz1Fm0FCVA"
      },
      "outputs": [],
      "source": [
        "import re"
      ]
    },
    {
      "cell_type": "markdown",
      "metadata": {
        "id": "bXUs9GIoFCVB"
      },
      "source": [
        "## Character Matching"
      ]
    },
    {
      "cell_type": "markdown",
      "metadata": {
        "id": "ooRokwSMFCVB"
      },
      "source": [
        "A single regular expression--often called a *regex* or a *pattern*--is a string object that contains the pattern of text that you want to match. Oftentimes, there are multiple regexes that work for matching a pattern of a given string. **_However, you must be VERY careful with the syntax of your regex; otherwise, you may not get the match that you are seeking_**.\n",
        "\n",
        "Some examples of patterns could include text such as:\n",
        "\n",
        "* Email addresses (user@domain.com)\n",
        "* IP addresses (172.16.254.1)\n",
        "* URL (http://www.google.com)\n",
        "* Dates and times (6-Mar-2018 12:30:00 P.M.)\n",
        "* Phone numbers (301-555-1234)\n",
        "* And more!\n",
        "\n",
        "The regex itself often contains a mix of regular characters and metacharacters that specify the pattern that you want to match, which can range from very simple to very complex. Regular characters will match the text exactly (i.e., in a literal sense), whereas metacharacters are more flexible and can capture variations in text. Regex metacharacters include:\n",
        "\n",
        "```\n",
        ". ^ $ * + ? { } [ ] \\ | ( )\n",
        "```\n",
        "\n",
        "To match a metacharacter in a literal sense, you must precede the metacharacter with a backslash (e.g., '\\\\'') or enclose it in brackets (e.g., '[  ]'). You should also be aware that standard Python string special characters are also recognized (e.g., '\\t', '\\n')."
      ]
    },
    {
      "cell_type": "markdown",
      "metadata": {
        "id": "FoNiBaxmFCVC"
      },
      "source": [
        "Let's begin by defining a function that will check whether or not a regex matches a pattern in a string:"
      ]
    },
    {
      "cell_type": "code",
      "source": [
        "re.search"
      ],
      "metadata": {
        "id": "r8BZWC3toXpv",
        "colab": {
          "base_uri": "https://localhost:8080/",
          "height": 138
        },
        "outputId": "5e8eed65-c4f3-4c8f-d35b-04ef4f6c542b"
      },
      "execution_count": null,
      "outputs": [
        {
          "output_type": "execute_result",
          "data": {
            "text/plain": [
              "<function re.search(pattern, string, flags=0)>"
            ],
            "text/html": [
              "<div style=\"max-width:800px; border: 1px solid var(--colab-border-color);\"><style>\n",
              "      pre.function-repr-contents {\n",
              "        overflow-x: auto;\n",
              "        padding: 8px 12px;\n",
              "        max-height: 500px;\n",
              "      }\n",
              "\n",
              "      pre.function-repr-contents.function-repr-contents-collapsed {\n",
              "        cursor: pointer;\n",
              "        max-height: 100px;\n",
              "      }\n",
              "    </style>\n",
              "    <pre style=\"white-space: initial; background:\n",
              "         var(--colab-secondary-surface-color); padding: 8px 12px;\n",
              "         border-bottom: 1px solid var(--colab-border-color);\"><b>re.search</b><br/>def search(pattern, string, flags=0)</pre><pre class=\"function-repr-contents function-repr-contents-collapsed\" style=\"\"><a class=\"filepath\" style=\"display:none\" href=\"#\">/usr/lib/python3.11/re/__init__.py</a>Scan through string looking for a match to the pattern, returning\n",
              "a Match object, or None if no match was found.</pre>\n",
              "      <script>\n",
              "      if (google.colab.kernel.accessAllowed && google.colab.files && google.colab.files.view) {\n",
              "        for (const element of document.querySelectorAll('.filepath')) {\n",
              "          element.style.display = 'block'\n",
              "          element.onclick = (event) => {\n",
              "            event.preventDefault();\n",
              "            event.stopPropagation();\n",
              "            google.colab.files.view(element.textContent, 173);\n",
              "          };\n",
              "        }\n",
              "      }\n",
              "      for (const element of document.querySelectorAll('.function-repr-contents')) {\n",
              "        element.onclick = (event) => {\n",
              "          event.preventDefault();\n",
              "          event.stopPropagation();\n",
              "          element.classList.toggle('function-repr-contents-collapsed');\n",
              "        };\n",
              "      }\n",
              "      </script>\n",
              "      </div>"
            ]
          },
          "metadata": {},
          "execution_count": 3
        }
      ]
    },
    {
      "cell_type": "code",
      "execution_count": null,
      "metadata": {
        "id": "uMXtIVJGFCVC"
      },
      "outputs": [],
      "source": [
        "def check_re(pat, S):\n",
        "    return bool(re.search(pat, S))"
      ]
    },
    {
      "cell_type": "code",
      "source": [
        "def search_re(pat, s):\n",
        "  print(re.search(pat, S))"
      ],
      "metadata": {
        "id": "pW-K5lnfl9v1"
      },
      "execution_count": null,
      "outputs": []
    },
    {
      "cell_type": "markdown",
      "metadata": {
        "id": "DXcGmJIwFCVD"
      },
      "source": [
        "Now, let's explore the simplest case, for which we want to match a pattern with a specific substring that only contains regular characters. For these cases, if we only want to verify whether a string contains the substring, we can simply use **in**. Regular expressions work as well, but they are not needed for such simple cases."
      ]
    },
    {
      "cell_type": "code",
      "execution_count": null,
      "metadata": {
        "id": "sr5VYEcIFCVD"
      },
      "outputs": [],
      "source": [
        "S = 'This is a tweet about apples'"
      ]
    },
    {
      "cell_type": "code",
      "execution_count": null,
      "metadata": {
        "id": "AmiRr3XpFCVE",
        "colab": {
          "base_uri": "https://localhost:8080/"
        },
        "outputId": "da3d7bc4-7979-4109-800e-f78f7fe2e7a1"
      },
      "outputs": [
        {
          "output_type": "execute_result",
          "data": {
            "text/plain": [
              "True"
            ]
          },
          "metadata": {},
          "execution_count": 6
        }
      ],
      "source": [
        "# Standard string method approach\n",
        "'apple' in S"
      ]
    },
    {
      "cell_type": "code",
      "execution_count": null,
      "metadata": {
        "id": "z3BUO87VFCVE",
        "colab": {
          "base_uri": "https://localhost:8080/"
        },
        "outputId": "dcf80e25-3a00-4f7a-959b-a80711573345"
      },
      "outputs": [
        {
          "output_type": "execute_result",
          "data": {
            "text/plain": [
              "True"
            ]
          },
          "metadata": {},
          "execution_count": 7
        }
      ],
      "source": [
        "# Check regex for apple\n",
        "check_re(r'apple', S)"
      ]
    },
    {
      "cell_type": "markdown",
      "metadata": {
        "id": "eLXh1CdfFCVF"
      },
      "source": [
        "Regular expressions become increasingly more useful when there is more potential variation in the text."
      ]
    },
    {
      "cell_type": "code",
      "execution_count": null,
      "metadata": {
        "id": "7nlVP5iQFCVF"
      },
      "outputs": [],
      "source": [
        "S = 'This is a tweet about Apple'"
      ]
    },
    {
      "cell_type": "code",
      "execution_count": null,
      "metadata": {
        "id": "mFdmbGYLFCVG",
        "colab": {
          "base_uri": "https://localhost:8080/"
        },
        "outputId": "ec35cce1-9f25-4902-d8ff-84c114b59077"
      },
      "outputs": [
        {
          "output_type": "execute_result",
          "data": {
            "text/plain": [
              "False"
            ]
          },
          "metadata": {},
          "execution_count": 9
        }
      ],
      "source": [
        "# Case-sensitive string method approach\n",
        "'apple' in S"
      ]
    },
    {
      "cell_type": "code",
      "execution_count": null,
      "metadata": {
        "id": "tpsaBAzoFCVH",
        "colab": {
          "base_uri": "https://localhost:8080/"
        },
        "outputId": "7590b658-aa98-4a17-fbaa-473bf39ae6d7"
      },
      "outputs": [
        {
          "output_type": "execute_result",
          "data": {
            "text/plain": [
              "True"
            ]
          },
          "metadata": {},
          "execution_count": 10
        }
      ],
      "source": [
        "# Case-insenstive string method approach\n",
        "'apple' in S.lower()"
      ]
    },
    {
      "cell_type": "code",
      "source": [
        "S"
      ],
      "metadata": {
        "colab": {
          "base_uri": "https://localhost:8080/",
          "height": 36
        },
        "id": "Zw3_9jmSApvj",
        "outputId": "bab3a0a9-d8e8-41a7-bad0-1a0a98b332c0"
      },
      "execution_count": null,
      "outputs": [
        {
          "output_type": "execute_result",
          "data": {
            "text/plain": [
              "'This is a tweet about Apple'"
            ],
            "application/vnd.google.colaboratory.intrinsic+json": {
              "type": "string"
            }
          },
          "metadata": {},
          "execution_count": 11
        }
      ]
    },
    {
      "cell_type": "code",
      "execution_count": null,
      "metadata": {
        "id": "uOZy08yqFCVH",
        "colab": {
          "base_uri": "https://localhost:8080/"
        },
        "outputId": "d528deb9-51a0-4852-89e5-7c24c352905d"
      },
      "outputs": [
        {
          "output_type": "execute_result",
          "data": {
            "text/plain": [
              "True"
            ]
          },
          "metadata": {},
          "execution_count": 12
        }
      ],
      "source": [
        "# Check regex for Apple or apple\n",
        "pat = '[Aa]pple'\n",
        "check_re(pat, S)"
      ]
    },
    {
      "cell_type": "markdown",
      "metadata": {
        "id": "E0AupYpHFCVI"
      },
      "source": [
        "Let's suppose we want to match text with alternative spellings."
      ]
    },
    {
      "cell_type": "code",
      "execution_count": null,
      "metadata": {
        "id": "_eRZNdDEFCVI",
        "colab": {
          "base_uri": "https://localhost:8080/"
        },
        "outputId": "c753c3ca-e7c7-4413-ed51-6c54e9593774"
      },
      "outputs": [
        {
          "output_type": "execute_result",
          "data": {
            "text/plain": [
              "True"
            ]
          },
          "metadata": {},
          "execution_count": 13
        }
      ],
      "source": [
        "S = 'Clouds are gray'\n",
        "('gray' in S) or ('grey' in S)"
      ]
    },
    {
      "cell_type": "code",
      "execution_count": null,
      "metadata": {
        "id": "h12daLSPFCVI",
        "colab": {
          "base_uri": "https://localhost:8080/"
        },
        "outputId": "7ffc8471-c356-427e-c615-1b4945c3d5a8"
      },
      "outputs": [
        {
          "output_type": "execute_result",
          "data": {
            "text/plain": [
              "[True, True]"
            ]
          },
          "metadata": {},
          "execution_count": 14
        }
      ],
      "source": [
        "pat = 'gr[ae]y'\n",
        "[check_re(pat, S) for S in ['Clouds are grey in the U.K.', 'Clouds are gray in the U.S.']]"
      ]
    },
    {
      "cell_type": "markdown",
      "metadata": {
        "id": "5d_GoNoJFCVJ"
      },
      "source": [
        "As we've seen, we can use square brackets [ ] to enclose a set of characters in our regex that can be used to match a single character in a string. You can also specify a range of characters or digits:\n",
        "\n",
        "* [a-z] will match any lowercase letter (equivalent to string.ascii_lowercase)\n",
        "* [A-Z] will match any uppercase letter (equivalent to string.ascii_uppercase)\n",
        "* [0-9] will match any digit (equivalent to string.digits)\n",
        "\n",
        "Abbreviated and combined ranges also work (e.g., [a-e], [1-4], [a-e1-4])."
      ]
    },
    {
      "cell_type": "code",
      "execution_count": null,
      "metadata": {
        "id": "vAC9hvAUFCVK",
        "colab": {
          "base_uri": "https://localhost:8080/"
        },
        "outputId": "8147d78c-16c1-423f-9e3d-87dddd882e4b"
      },
      "outputs": [
        {
          "output_type": "execute_result",
          "data": {
            "text/plain": [
              "True"
            ]
          },
          "metadata": {},
          "execution_count": 22
        }
      ],
      "source": [
        "pat = '20[012][0-9]'\n",
        "year = 2020\n",
        "check_re(pat, 'This data was collected in the year %d' % year)\n",
        "# check_re(pat, 'This data was collected in the year ' + str(year))\n",
        "# check_re(pat, 'This data was collected in the year {}'.format(year))\n"
      ]
    },
    {
      "cell_type": "markdown",
      "metadata": {
        "id": "m93xXwblFCVL"
      },
      "source": [
        "We can also use [^ ] to specify characters that we do not want to include when matching a single character in a string (set complement)."
      ]
    },
    {
      "cell_type": "code",
      "execution_count": null,
      "metadata": {
        "id": "C439J_xoFCVM",
        "colab": {
          "base_uri": "https://localhost:8080/"
        },
        "outputId": "d9fc0739-0c57-4064-ceb6-cda662a3f0df"
      },
      "outputs": [
        {
          "output_type": "stream",
          "name": "stdout",
          "text": [
            "Letters to exclude: ['e', 't', 'a', 'o', 'i', 'n']\n",
            "Letters to include: ['b', 'c', 'd', 'f', 'g', 'h', 'j', 'k', 'l', 'm', 'p', 'q', 'r', 's', 'u', 'v', 'w', 'x', 'y', 'z']\n",
            "[False, False, False, False, False, False, False, False, False, False, False, False, False, False, False, False, False, False, False, False]\n",
            "False\n"
          ]
        }
      ],
      "source": [
        "# Standard string methods approach\n",
        "import string\n",
        "letters_to_exclude = list('etaoin')\n",
        "\n",
        "letters_to_include = []\n",
        "for let in string.ascii_lowercase:\n",
        "  if let not in letters_to_exclude:\n",
        "    letters_to_include.append(let)\n",
        "\n",
        "#letters_to_include = [let for let in string.ascii_lowercase if let not in letters_to_exclude]\n",
        "\n",
        "print('Letters to exclude:', letters_to_exclude)\n",
        "print('Letters to include:', letters_to_include)\n",
        "word = 'eat'\n",
        "\n",
        "results = [x in word for x in letters_to_include]\n",
        "print(results)\n",
        "print(any(results))\n",
        "\n",
        "#any([let in word for let in letters_to_include])"
      ]
    },
    {
      "cell_type": "code",
      "execution_count": null,
      "metadata": {
        "id": "AhTZD0aRFCVM",
        "colab": {
          "base_uri": "https://localhost:8080/"
        },
        "outputId": "bf871892-a96d-4c1b-f8a9-dfae724e1ab9"
      },
      "outputs": [
        {
          "output_type": "execute_result",
          "data": {
            "text/plain": [
              "True"
            ]
          },
          "metadata": {},
          "execution_count": 24
        }
      ],
      "source": [
        "# Test for word that contains one character outside of the most popular English letters\n",
        "word = 'great'\n",
        "check_re('[^etaoin]', word)"
      ]
    },
    {
      "cell_type": "markdown",
      "metadata": {
        "id": "KbKZJNhsFCVM"
      },
      "source": [
        "In addition, we can use the **or** operator ('|') to specify multiple options for matching text. The **or** operator is much more flexible than specifying a set of characters, as it can more easily capture patterns that differ by more than one or two characters."
      ]
    },
    {
      "cell_type": "code",
      "execution_count": null,
      "metadata": {
        "id": "HUpfXFfyFCVN",
        "colab": {
          "base_uri": "https://localhost:8080/"
        },
        "outputId": "d8edcedb-79e7-43f9-aa1d-5c637396d8b1"
      },
      "outputs": [
        {
          "output_type": "execute_result",
          "data": {
            "text/plain": [
              "[True, True, False]"
            ]
          },
          "metadata": {},
          "execution_count": 23
        }
      ],
      "source": [
        "pat = 'gray|grey'\n",
        "[check_re(pat, word) for word in ['grey', 'gray', 'green']]"
      ]
    },
    {
      "cell_type": "code",
      "execution_count": null,
      "metadata": {
        "id": "C6G_e1yMFCVN",
        "colab": {
          "base_uri": "https://localhost:8080/"
        },
        "outputId": "ea84b1cf-9620-4eb9-faf1-1fb28c96f428"
      },
      "outputs": [
        {
          "output_type": "execute_result",
          "data": {
            "text/plain": [
              "[False, True, False, True, False, True]"
            ]
          },
          "metadata": {},
          "execution_count": 25
        }
      ],
      "source": [
        "pat = 'blue|yellow|red'\n",
        "[check_re(pat, S) for S in ['green','red','purple','yellow','orange','blue']]"
      ]
    },
    {
      "cell_type": "markdown",
      "metadata": {
        "id": "jQyx73y9FCVN"
      },
      "source": [
        "Any metacharacters listed inside brackets will be matched literally (e.g., $, \\\\). You do not need to use the escape backslash character as you would need to if specifying a character to match outside of brackets."
      ]
    },
    {
      "cell_type": "code",
      "execution_count": null,
      "metadata": {
        "id": "0sGBwTobFCVN",
        "colab": {
          "base_uri": "https://localhost:8080/"
        },
        "outputId": "0b43a7d8-934e-40f2-a370-56efd5d9f06a"
      },
      "outputs": [
        {
          "output_type": "execute_result",
          "data": {
            "text/plain": [
              "True"
            ]
          },
          "metadata": {},
          "execution_count": 26
        }
      ],
      "source": [
        "pat = '\\$[0-9]\\.[0-9][0-9]'\n",
        "check_re(pat, 'I paid $4.52 for my coffee this morning')"
      ]
    },
    {
      "cell_type": "markdown",
      "metadata": {
        "id": "RCOAbBGGFCVN"
      },
      "source": [
        "In addition to using brackets to specify search patterns for special characters, there are several special sequences that represent specific sets of characters. Most commonly used are:\n",
        "\n",
        "* \\d - Represents all digits, and is equivalent to [0-9]\n",
        "* \\s - Represent all whitespace characters, and is equivalent to [ \\t\\n\\r\\f\\v] (note the space character in the first position)\n",
        "* \\w - Represents all alphanumeric characters, including the underscore ( \\_ ) and is equivalent to [a-zA-Z0-9\\_]\n",
        "\n",
        "There are also complements to these sets, represented by the corresponding capital letter:\n",
        "\n",
        "* \\D - Represents all non-digits, and is equivalent to [^0-9]\n",
        "* \\S - Represents all non-whitespace characters, and is equivalent to [^ \\t\\n\\r\\f\\v]\n",
        "* \\W - Represents all non-alphanumeric characters, and is equivalent to [^a-zA-Z0-9\\_]\n",
        "\n",
        "These character sets can also be specified within square brackets (e.g., [\\s;,.!?]).\n",
        "\n",
        "The **.** metacharacter matches any character, except for a newline character (\\n) (by default), and is especially useful for utilizing regular expressions on unstructured text."
      ]
    },
    {
      "cell_type": "code",
      "execution_count": null,
      "metadata": {
        "id": "-kaE498wFCVN",
        "colab": {
          "base_uri": "https://localhost:8080/"
        },
        "outputId": "22a46183-1f6c-4445-99aa-7a078ae3ffec"
      },
      "outputs": [
        {
          "output_type": "execute_result",
          "data": {
            "text/plain": [
              "<re.Match object; span=(7, 12), match='$4.52'>"
            ]
          },
          "metadata": {},
          "execution_count": 27
        }
      ],
      "source": [
        "# Money\n",
        "pat = '[$]\\d[.]\\d\\d'\n",
        "check_re(pat, 'I paid $4.5289 for my coffee this morning')\n",
        "#re.search(pat, 'I paid $4.5289 for my coffee this morning')"
      ]
    },
    {
      "cell_type": "code",
      "execution_count": null,
      "metadata": {
        "id": "UyWh5cbCFCVO",
        "colab": {
          "base_uri": "https://localhost:8080/"
        },
        "outputId": "bbca4fc1-965e-44d9-bd8b-127414e615a8"
      },
      "outputs": [
        {
          "output_type": "stream",
          "name": "stdout",
          "text": [
            "None\n"
          ]
        },
        {
          "output_type": "execute_result",
          "data": {
            "text/plain": [
              "<re.Match object; span=(22, 25), match='A52'>"
            ]
          },
          "metadata": {},
          "execution_count": 34
        }
      ],
      "source": [
        "# Numbering conventions\n",
        "pat = '[A-Z]\\d\\d'\n",
        "check_re(pat, 'Now serving customer CA52 at booth 14')\n",
        "#re.search(pat, 'Now serving customer CA52 at booth 14')"
      ]
    },
    {
      "cell_type": "code",
      "execution_count": null,
      "metadata": {
        "id": "eA62vi82FCVO",
        "colab": {
          "base_uri": "https://localhost:8080/"
        },
        "outputId": "a6b0ddfe-7313-492f-c91b-b4b87cdbf4d6"
      },
      "outputs": [
        {
          "output_type": "execute_result",
          "data": {
            "text/plain": [
              "<re.Match object; span=(64, 71), match='AA 1010'>"
            ]
          },
          "metadata": {},
          "execution_count": 36
        }
      ],
      "source": [
        "# Washington, DC license plates\n",
        "pat = '[A-Z][A-Z] \\d\\d\\d\\d'\n",
        "pat1 = '[A-Z]{2}\\s\\d{4}'\n",
        "re.search(pat1, 'In Washington, D.C., I saw a car with a license plate number of AA 1010')"
      ]
    },
    {
      "cell_type": "code",
      "execution_count": null,
      "metadata": {
        "id": "JK6bdhHDFCVO",
        "colab": {
          "base_uri": "https://localhost:8080/"
        },
        "outputId": "604223e6-d5e3-4244-ce05-e8e9436fc431"
      },
      "outputs": [
        {
          "output_type": "execute_result",
          "data": {
            "text/plain": [
              "<re.Match object; span=(56, 64), match='ABC-1010'>"
            ]
          },
          "metadata": {},
          "execution_count": 38
        }
      ],
      "source": [
        "# Virginia license plates\n",
        "pat = '[A-Z][A-Z][A-Z]-\\d\\d\\d\\d'\n",
        "pat1 = '[A-Z]{3}-\\d{4}'\n",
        "re.search(pat1, 'In Virginia, I saw a car with a license plate number of ABC-1010')"
      ]
    },
    {
      "cell_type": "code",
      "execution_count": null,
      "metadata": {
        "id": "nWhScCmTFCVO",
        "colab": {
          "base_uri": "https://localhost:8080/"
        },
        "outputId": "aad2583e-d7ac-4b08-df47-7e8a3b67fe76"
      },
      "outputs": [
        {
          "output_type": "execute_result",
          "data": {
            "text/plain": [
              "<re.Match object; span=(19, 24), match='Mar 6'>"
            ]
          },
          "metadata": {},
          "execution_count": 42
        }
      ],
      "source": [
        "# Dates\n",
        "pat = '\\w\\w\\w \\d'\n",
        "pat1 = '\\w{3}\\s\\d'\n",
        "pat2 = '[a-zA-Z]{3}\\s\\d'\n",
        "pat3 = '[a-zA-Z]+\\s\\d'\n",
        "re.search(pat3, 'Today, the date is Mar 6.')"
      ]
    },
    {
      "cell_type": "code",
      "execution_count": null,
      "metadata": {
        "id": "9QUqB3HSFCVO",
        "colab": {
          "base_uri": "https://localhost:8080/"
        },
        "outputId": "1e827d1d-93da-4d0f-f431-6ba7d06b6b71"
      },
      "outputs": [
        {
          "output_type": "execute_result",
          "data": {
            "text/plain": [
              "True"
            ]
          },
          "metadata": {},
          "execution_count": 28
        }
      ],
      "source": [
        "# Times\n",
        "pat = '\\d?\\d:\\d\\d [AP]\\.M\\.'\n",
        "#re.search(pat, 'Right now, the time is 17:06 P.M.')\n",
        "check_re(pat, 'Right now, the time is 7:06 P.M.')"
      ]
    },
    {
      "cell_type": "code",
      "execution_count": null,
      "metadata": {
        "id": "84r-9Ca6FCVP",
        "colab": {
          "base_uri": "https://localhost:8080/"
        },
        "outputId": "5d52c24e-91da-4368-bc0f-96590d52f45f"
      },
      "outputs": [
        {
          "output_type": "stream",
          "name": "stdout",
          "text": [
            "A\t1 5\n",
            "10\n"
          ]
        },
        {
          "output_type": "execute_result",
          "data": {
            "text/plain": [
              "True"
            ]
          },
          "metadata": {},
          "execution_count": 29
        }
      ],
      "source": [
        "# Space or tab-delimited data\n",
        "pat = '\\w\\s\\d\\s\\d\\s\\d'\n",
        "S = 'A\\t1 5\\n10'\n",
        "print(S)\n",
        "check_re(pat, S)"
      ]
    },
    {
      "cell_type": "markdown",
      "metadata": {
        "id": "w_2fgDNIFCVP"
      },
      "source": [
        "## Quantification"
      ]
    },
    {
      "cell_type": "markdown",
      "metadata": {
        "id": "KNOqQmp8FCVP"
      },
      "source": [
        "Up to this point, we have only been able to perform character-by-character pattern matching on a string. In practice, we do not always have the luxury of processing structured string patterns such as monetary strings, dates, times, or other structured formats. And even for the structured formats, there may still be some variability (e.g. \\\\$12.38 vs. \\\\$8.92).\n",
        "\n",
        "Quantification allows us to specify the number of times that a specific element of a pattern is allowed to be repeated. The most common quantifiers are:\n",
        "\n",
        "* \\* \\- specifies that the previous element can be matched zero or more times (equivalent to {0,})\n",
        "* \\+ \\- specifies that the previous element can be matched one or more times (equivalent to {1,})\n",
        "* ? \\- specifies that the previous element can be matched zero or one time(s) (equivalent to {0,1})\n",
        "* {n} - specifies that the previous element must be matched exactly *n* times\n",
        "* {n,m} - specifies that the previous element must be matched between _n_ and *m* times\n",
        "* {n,} - specifies that the previous element must be matched at least *n* times\n",
        "* {,m} - specifies that the previous element must be matched at most *m* times\n",
        "\n",
        "Quantifiers are greedy by default, which means that they will try to match as many characters as possible (while still getting a match). If this behavior does not match what you want, you can append the '?' character to the end of the quantifier to enforce a conservative approach (e.g., \\*?, \\+?, ??, { }?)."
      ]
    },
    {
      "cell_type": "code",
      "execution_count": null,
      "metadata": {
        "id": "w-1h2cksFCVP",
        "colab": {
          "base_uri": "https://localhost:8080/"
        },
        "outputId": "eab4aa6b-83fb-4d98-adda-16ea624786c7"
      },
      "outputs": [
        {
          "output_type": "execute_result",
          "data": {
            "text/plain": [
              "<re.Match object; span=(7, 12), match='$.525'>"
            ]
          },
          "metadata": {},
          "execution_count": 44
        }
      ],
      "source": [
        "# Money\n",
        "pat = '[$]\\d*[.]\\d{2,3}'\n",
        "re.search(pat, 'I paid $.525 for my coffee this morning')"
      ]
    },
    {
      "cell_type": "code",
      "execution_count": null,
      "metadata": {
        "id": "hOQcUxrzFCVQ",
        "colab": {
          "base_uri": "https://localhost:8080/"
        },
        "outputId": "77ec1e5e-2bb6-4759-880c-ed594bbb8df8"
      },
      "outputs": [
        {
          "output_type": "execute_result",
          "data": {
            "text/plain": [
              "True"
            ]
          },
          "metadata": {},
          "execution_count": 31
        }
      ],
      "source": [
        "# Dates\n",
        "pat = '\\w\\w\\w \\d+'\n",
        "check_re(pat, 'Today, the date is Mar 06.')"
      ]
    },
    {
      "cell_type": "code",
      "execution_count": null,
      "metadata": {
        "id": "MzJwpfmoFCVQ",
        "colab": {
          "base_uri": "https://localhost:8080/"
        },
        "outputId": "229460ab-c5c3-4161-af60-d81751f7053a"
      },
      "outputs": [
        {
          "output_type": "execute_result",
          "data": {
            "text/plain": [
              "True"
            ]
          },
          "metadata": {},
          "execution_count": 32
        }
      ],
      "source": [
        "# More dates\n",
        "pat = '\\d?\\d-[A-Za-z]+-\\d{2,4}'\n",
        "check_re(pat, 'Today, the date is 6-Mar-2018')"
      ]
    },
    {
      "cell_type": "markdown",
      "metadata": {
        "id": "DRNvLCxnFCVQ"
      },
      "source": [
        "## Regex Methods"
      ]
    },
    {
      "cell_type": "markdown",
      "metadata": {
        "id": "CrAS9Om0FCVQ"
      },
      "source": [
        "By combining character matching and quantification, you can create some extremely complex patterns to match various types of text.\n",
        "\n",
        "Given that you have defined an appropriate regex, what can you do with it? The **re** module contains several functions for applying a regex to a string, which are categorized into 3 types:\n",
        "\n",
        "* Pattern matching\n",
        "    - re.search, re.match, re.fullmatch, re.findall, re.finditer\n",
        "* Substitution\n",
        "    - re.sub, re.subn\n",
        "* Splitting\n",
        "    - re.split\n",
        "    \n",
        "All of these functions accept a regex pattern, the string on which to search for the pattern, and an optional set of flags that specify how the pattern matching should be performed (e.g., re.IGNORECASE). Additionally, the substitution functions accept the string object that you want to replace the matched pattern (or a function to apply to each non-overlapping match), and an optional count argument that specifies the maximum number of replacements."
      ]
    },
    {
      "cell_type": "markdown",
      "metadata": {
        "id": "nIkC-nOLFCVQ"
      },
      "source": [
        "**re.search** and **re.match** both attempt to match the pattern within a given string object. The difference is that re.match will attempt to match the pattern from the beginning of the string, whereas re.search is more general and will search for the pattern throughout the string until it finds a match (if there is one). Technically, re.search can be used to search at the beginning of a string by placing the '^' character at the beginning of the regex pattern.\n",
        "\n",
        "If processing a consistently structured set of text (e.g., one statement per line), re.match is probably more appropriate, whereas re.search is probably more appropriate for unstructured text. Either function could work for many cases.\n",
        "\n",
        "**re.fullmatch** must match the full string.\n",
        "\n",
        "These pattern matching functions return a **match object** if a match is found; otherwise, they will return None. Oftentimes, you can check whether a match is found by combining a pattern matching attempt with a conditional (e.g., if statement, ternary expression, np.where). The match object has several methods for extracting information about the match:\n",
        "\n",
        "* .group - returns the text that matched the regex pattern\n",
        "* .start - returns the starting index of the text that matched the regex pattern\n",
        "* .end - returns the end index of the text that matched the regex pattern\n",
        "* .span - returns a tuple of (start, end) indices of the text that matched the regex pattern\n",
        "\n",
        "In addition, regexes allow you to specify groups within a given pattern. Any patterns enclosed within parentheses ( ) will be assigned to a group (numbered in order, beginning at 1), and this allows you to extract the specific matched pattern and use it for other purposes (e.g., assign to a variable, append to a list). The above methods accept a group number (if applicable), which returns the associated information about the specific group."
      ]
    },
    {
      "cell_type": "code",
      "execution_count": null,
      "metadata": {
        "id": "YOZ3WWHGFCVR",
        "colab": {
          "base_uri": "https://localhost:8080/"
        },
        "outputId": "380e41c7-ae7b-4572-d92e-637aa9f608dd"
      },
      "outputs": [
        {
          "output_type": "stream",
          "name": "stdout",
          "text": [
            "<re.Match object; span=(19, 29), match='6-Mar-2018'>\n"
          ]
        }
      ],
      "source": [
        "# Extracting dates\n",
        "pat = '\\d?\\d-[A-Za-z]+-(\\d{2,4})'\n",
        "S = 'Today, the date is 6-Mar-2018'\n",
        "m = re.search(pat, S)\n",
        "print(m)"
      ]
    },
    {
      "cell_type": "code",
      "execution_count": null,
      "metadata": {
        "id": "aHDn2-OBFCVR",
        "colab": {
          "base_uri": "https://localhost:8080/",
          "height": 36
        },
        "outputId": "fe0e04d2-a4f2-48b0-d8c9-34f9d653c112"
      },
      "outputs": [
        {
          "output_type": "execute_result",
          "data": {
            "text/plain": [
              "'6-Mar-2018'"
            ],
            "application/vnd.google.colaboratory.intrinsic+json": {
              "type": "string"
            }
          },
          "metadata": {},
          "execution_count": 39
        }
      ],
      "source": [
        "# .group method\n",
        "m.group(0)"
      ]
    },
    {
      "cell_type": "code",
      "source": [
        "m.start()"
      ],
      "metadata": {
        "colab": {
          "base_uri": "https://localhost:8080/"
        },
        "id": "M1WBMltcHzH_",
        "outputId": "5ab419c1-4a0c-42b1-bbff-325c5af98300"
      },
      "execution_count": null,
      "outputs": [
        {
          "output_type": "execute_result",
          "data": {
            "text/plain": [
              "19"
            ]
          },
          "metadata": {},
          "execution_count": 41
        }
      ]
    },
    {
      "cell_type": "code",
      "execution_count": null,
      "metadata": {
        "id": "eWtFG_tcFCVR",
        "colab": {
          "base_uri": "https://localhost:8080/",
          "height": 36
        },
        "outputId": "f3d1049c-466a-4f7d-a23e-f42463975c00"
      },
      "outputs": [
        {
          "output_type": "execute_result",
          "data": {
            "text/plain": [
              "'6-Mar-2018'"
            ],
            "application/vnd.google.colaboratory.intrinsic+json": {
              "type": "string"
            }
          },
          "metadata": {},
          "execution_count": 5
        }
      ],
      "source": [
        "# .start and .end methods\n",
        "S[m.start():m.end()]"
      ]
    },
    {
      "cell_type": "code",
      "execution_count": null,
      "metadata": {
        "id": "9iN5L395FCVS",
        "colab": {
          "base_uri": "https://localhost:8080/",
          "height": 36
        },
        "outputId": "8db2398a-f0fe-4653-88d8-63e0a4a010c9"
      },
      "outputs": [
        {
          "output_type": "execute_result",
          "data": {
            "text/plain": [
              "'6-Mar-2018'"
            ],
            "application/vnd.google.colaboratory.intrinsic+json": {
              "type": "string"
            }
          },
          "metadata": {},
          "execution_count": 43
        }
      ],
      "source": [
        "# .span method\n",
        "start, end = m.span()\n",
        "S[start:end]"
      ]
    },
    {
      "cell_type": "code",
      "execution_count": null,
      "metadata": {
        "id": "waQggnT4FCVS",
        "colab": {
          "base_uri": "https://localhost:8080/"
        },
        "outputId": "acd8def5-cce9-4ffd-b57a-ed63199607b5"
      },
      "outputs": [
        {
          "output_type": "stream",
          "name": "stdout",
          "text": [
            "\\d?\\d-[A-Za-z]+-(\\d{2,4})\n",
            "6-Mar-2018 Today, the date is\n",
            "6-Mar-2018 0 10 (0, 10)\n"
          ]
        }
      ],
      "source": [
        "# match function\n",
        "print(pat)\n",
        "S = '6-Mar-2018 Today, the date is'\n",
        "print(S)\n",
        "m = re.match(pat,S)\n",
        "print(m.group(),m.start(),m.end(),m.span())"
      ]
    },
    {
      "cell_type": "code",
      "execution_count": null,
      "metadata": {
        "id": "FJAzkB8KFCVS",
        "colab": {
          "base_uri": "https://localhost:8080/"
        },
        "outputId": "38bc8256-d4cb-46ed-8c28-012fc9e335a8"
      },
      "outputs": [
        {
          "output_type": "stream",
          "name": "stdout",
          "text": [
            "<re.Match object; span=(0, 19), match='hfdejern 6-Mar-2018'>\n"
          ]
        }
      ],
      "source": [
        "# Revised search pattern for match\n",
        "S = 'hfdejern 6-Mar-2018 Today, the date is'\n",
        "pat = '.*?\\d?\\d-[A-Za-z]+-\\d{2,4}'\n",
        "m = re.match(pat,S)\n",
        "print(m)"
      ]
    },
    {
      "cell_type": "code",
      "execution_count": null,
      "metadata": {
        "id": "G9G7LbxMFCVS",
        "colab": {
          "base_uri": "https://localhost:8080/"
        },
        "outputId": "c3cd01d3-84be-4ba5-97e5-f07af50a54f9"
      },
      "outputs": [
        {
          "output_type": "stream",
          "name": "stdout",
          "text": [
            "['6-Mar-2018', '7-Mar-18']\n"
          ]
        }
      ],
      "source": [
        "# Another revised search pattern for match\n",
        "S = 'Today, the date is 6-Mar-2018.  Tomorrow, the date will be 7-Mar-18.'\n",
        "pat = '.*?(\\d?\\d-[A-Za-z]+-\\d+)'\n",
        "m = re.findall(pat,S)\n",
        "print(m)\n",
        "m = re.search(pat, S)\n"
      ]
    },
    {
      "cell_type": "code",
      "execution_count": null,
      "metadata": {
        "id": "fIjSCtKkFCVT",
        "colab": {
          "base_uri": "https://localhost:8080/",
          "height": 36
        },
        "outputId": "4b881ee9-b30b-40b6-f309-c8af6f16fef8"
      },
      "outputs": [
        {
          "output_type": "execute_result",
          "data": {
            "text/plain": [
              "'Today, the date is 6-Mar-2018'"
            ],
            "application/vnd.google.colaboratory.intrinsic+json": {
              "type": "string"
            }
          },
          "metadata": {},
          "execution_count": 13
        }
      ],
      "source": [
        "# .group method - specify group number\n",
        "m.group(0)"
      ]
    },
    {
      "cell_type": "code",
      "execution_count": null,
      "metadata": {
        "id": "cwmmmcMrFCVV",
        "colab": {
          "base_uri": "https://localhost:8080/"
        },
        "outputId": "4d843d56-3342-4d90-cb5e-6a44dbaa5ee8"
      },
      "outputs": [
        {
          "output_type": "execute_result",
          "data": {
            "text/plain": [
              "(19, 29)"
            ]
          },
          "metadata": {},
          "execution_count": 15
        }
      ],
      "source": [
        "# .span method - specify group number\n",
        "m.span(1)"
      ]
    },
    {
      "cell_type": "markdown",
      "metadata": {
        "id": "dqV_htS0FCVV"
      },
      "source": [
        "The **re.findall** and **re.finditer** also match a given string pattern, but rather than match a specific instance (or specific instances) of a pattern, these functions return all matches. The re.findall function returns the result in the form of a list. The re.finditer returns an iterator, which is useful for a process with many potential matches."
      ]
    },
    {
      "cell_type": "code",
      "execution_count": null,
      "metadata": {
        "id": "aLOKGbiNFCVV",
        "colab": {
          "base_uri": "https://localhost:8080/"
        },
        "outputId": "9227b947-4ff4-41ef-9b1a-94eb84052792"
      },
      "outputs": [
        {
          "output_type": "stream",
          "name": "stdout",
          "text": [
            "[('1', ':'), ('7', ':'), ('10', ':')]\n",
            "2\n",
            "1:00\n",
            "7:00\n",
            "10:00\n"
          ]
        }
      ],
      "source": [
        "# Times\n",
        "import re\n",
        "pat = '(\\d{1,2})(:)(?:\\d\\d)'\n",
        "S = 'The games tomorrow will begin at 1:00, 7:00, and 10:00.'\n",
        "a = re.findall(pat, S)\n",
        "print(a)\n",
        "print(len(a[0]))\n",
        "it = re.finditer(pat, S)\n",
        "for i in it:\n",
        "    print(i.group())"
      ]
    },
    {
      "cell_type": "code",
      "execution_count": null,
      "metadata": {
        "id": "696Ked3uFCVW",
        "colab": {
          "base_uri": "https://localhost:8080/"
        },
        "outputId": "0dd6574e-88a5-49c8-f374-5cff125e98f1"
      },
      "outputs": [
        {
          "output_type": "stream",
          "name": "stdout",
          "text": [
            "[('1', '00'), ('7', '00'), ('10', '00')]\n",
            "1:00\n",
            "7:00\n",
            "10:00\n"
          ]
        }
      ],
      "source": [
        "# Times with groups\n",
        "pat = '(\\d{1,2}):(\\d\\d)'\n",
        "S = 'The games tomorrow will begin at 1:00, 7:00, and 10:00.'\n",
        "a = re.findall(pat, S)\n",
        "print(a)\n",
        "it = re.finditer(pat, S)\n",
        "for i in it:\n",
        "    print(i.group())"
      ]
    },
    {
      "cell_type": "markdown",
      "metadata": {
        "id": "pfvrzgeKFCVW"
      },
      "source": [
        "The substitution functions--**re.sub** and **re.subn**--are especially useful for data standardization functions. The re.sub function will replace all instances of the matched pattern, whereas re.subn will replace up to *n* occurences."
      ]
    },
    {
      "cell_type": "code",
      "execution_count": null,
      "metadata": {
        "id": "kLr6qAsNFCVW",
        "colab": {
          "base_uri": "https://localhost:8080/"
        },
        "outputId": "ce7cd68f-6be4-40cf-f6ba-7c915b5acbcb"
      },
      "outputs": [
        {
          "output_type": "execute_result",
          "data": {
            "text/plain": [
              "('My phone number is (301) 555-1234, (301) 555-1234, 3015551234.', 2)"
            ]
          },
          "metadata": {},
          "execution_count": 26
        }
      ],
      "source": [
        "# Phone numbers\n",
        "pat = '\\(?(\\d{3})\\)?\\s*(\\d{3})-?(\\d{4})'\n",
        "S = 'My phone number is 3015551234, 3015551234, 3015551234.'\n",
        "repl = lambda m: '(' + m.group(1) + ') ' + m.group(2) + '-' + m.group(3)\n",
        "re.subn(pat, repl, S, count=2)"
      ]
    },
    {
      "cell_type": "code",
      "source": [
        "?re.subn"
      ],
      "metadata": {
        "id": "kdAK7GcFODLM"
      },
      "execution_count": null,
      "outputs": []
    },
    {
      "cell_type": "markdown",
      "metadata": {
        "id": "UZRuZwoHFCVW"
      },
      "source": [
        "The **re.split** function is a more flexible implementation of the standard string split method, which can split a string using regular expression patterns."
      ]
    },
    {
      "cell_type": "code",
      "execution_count": null,
      "metadata": {
        "id": "FKtxWIlSFCVX",
        "colab": {
          "base_uri": "https://localhost:8080/"
        },
        "outputId": "d1dba614-ac7d-4a54-c4dc-24f9773e1e64"
      },
      "outputs": [
        {
          "output_type": "execute_result",
          "data": {
            "text/plain": [
              "['scheme', 'www', 'host', 'com', 'path', 'query', 'fragment']"
            ]
          },
          "metadata": {},
          "execution_count": 38
        }
      ],
      "source": [
        "# Parsing URLs\n",
        "pat = '[://|\\.|\\?|#|/]+'\n",
        "S = 'scheme:///www.host.com/path?query#fragment'\n",
        "re.split(pat,S)"
      ]
    },
    {
      "cell_type": "markdown",
      "metadata": {
        "id": "dt9C49NNFCVX"
      },
      "source": [
        "## Compiling Regex Objects"
      ]
    },
    {
      "cell_type": "markdown",
      "metadata": {
        "id": "3dggHShXFCVX"
      },
      "source": [
        "Up to this point, we have created a string object that contains the regex pattern, and input this object as the pattern argument into a regex function. For patterns that we expect to use repeatedly (e.g., in a loop), it is more efficient if we compile the object once up front and then utilize the compiled object directly. You can compile regex objects using the **re.compile** function, where you can specify any optional flags similar to the standard **re** functions (see previous section). A combiled **re** object has the same functions as the **re** module, accessed as methods of the compiled object."
      ]
    },
    {
      "cell_type": "code",
      "execution_count": null,
      "metadata": {
        "id": "e1xAWnV7FCVX",
        "colab": {
          "base_uri": "https://localhost:8080/"
        },
        "outputId": "1bd1157d-3e70-405b-9dce-49b8d11d386a"
      },
      "outputs": [
        {
          "output_type": "execute_result",
          "data": {
            "text/plain": [
              "re.compile(r'\\d?\\d-[A-Z]+-\\d{2,4}', re.IGNORECASE|re.UNICODE)"
            ]
          },
          "metadata": {},
          "execution_count": 27
        }
      ],
      "source": [
        "date_regex = re.compile('\\d?\\d-[A-Z]+-\\d{2,4}', flags=re.IGNORECASE)\n",
        "date_regex"
      ]
    },
    {
      "cell_type": "code",
      "execution_count": null,
      "metadata": {
        "id": "0cnM6fUTFCVX"
      },
      "outputs": [],
      "source": [
        "date_list = ['5-APR-18', '22-February-2018', '12-august-18', '2/8/2016', 'March, 28, 2018']"
      ]
    },
    {
      "cell_type": "code",
      "execution_count": null,
      "metadata": {
        "id": "bkJS-ymIFCVX",
        "colab": {
          "base_uri": "https://localhost:8080/"
        },
        "outputId": "5d1a4236-786e-48e4-8c0b-05fcdfd355bc"
      },
      "outputs": [
        {
          "output_type": "stream",
          "name": "stdout",
          "text": [
            "5-APR-18\n",
            "22-February-2018\n",
            "12-august-18\n",
            "No match found, date invalid.\n",
            "No match found, date invalid.\n"
          ]
        }
      ],
      "source": [
        "for dt in date_list:\n",
        "    m = date_regex.search(dt)\n",
        "    if m:\n",
        "        print(m.group())\n",
        "    else:\n",
        "        print('No match found, date invalid.')"
      ]
    }
  ],
  "metadata": {
    "anaconda-cloud": {},
    "kernelspec": {
      "display_name": "Python 3",
      "language": "python",
      "name": "python3"
    },
    "language_info": {
      "codemirror_mode": {
        "name": "ipython",
        "version": 3
      },
      "file_extension": ".py",
      "mimetype": "text/x-python",
      "name": "python",
      "nbconvert_exporter": "python",
      "pygments_lexer": "ipython3",
      "version": "3.7.4"
    },
    "colab": {
      "provenance": [],
      "include_colab_link": true
    }
  },
  "nbformat": 4,
  "nbformat_minor": 0
}